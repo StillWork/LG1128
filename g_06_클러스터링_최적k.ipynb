{
 "cells": [
  {
   "cell_type": "markdown",
   "metadata": {
    "colab_type": "text",
    "id": "8M-1b3JeBWUu"
   },
   "source": [
    "# 클러스터링\n",
    "- 최적 k 찾기\n",
    "- 스케일링\n",
    "- 원 핫 인코딩\n",
    "- kMeans\n",
    "- 고객세분화"
   ]
  },
  {
   "cell_type": "code",
   "execution_count": 1,
   "metadata": {
    "colab": {},
    "colab_type": "code",
    "id": "rlvSd-uXBWUw"
   },
   "outputs": [],
   "source": [
    "import pandas as pd\n",
    "import numpy as np\n",
    "import matplotlib.pyplot as plt\n",
    "from sklearn.cluster import KMeans\n",
    "%config InlineBackend.figure_format = 'retina'"
   ]
  },
  {
   "cell_type": "markdown",
   "metadata": {
    "colab_type": "text",
    "id": "X9HeFpCB5dCb"
   },
   "source": [
    "# 데이터 읽기"
   ]
  },
  {
   "cell_type": "code",
   "execution_count": 2,
   "metadata": {
    "colab": {
     "base_uri": "https://localhost:8080/",
     "height": 69
    },
    "colab_type": "code",
    "executionInfo": {
     "elapsed": 3940,
     "status": "ok",
     "timestamp": 1572828548993,
     "user": {
      "displayName": "김화종",
      "photoUrl": "https://lh3.googleusercontent.com/a-/AAuE7mCOtXjyLykQ_8l9Pq2rL3r5y110ynjRS1eb1EzpcQ=s64",
      "userId": "17353049580175403985"
     },
     "user_tz": -540
    },
    "id": "6A4lATaYBWU0",
    "outputId": "70477f09-ef9c-4718-ca52-82191f53a362"
   },
   "outputs": [
    {
     "name": "stdout",
     "output_type": "stream",
     "text": [
      "  % Total    % Received % Xferd  Average Speed   Time    Time     Time  Current\n",
      "                                 Dload  Upload   Total   Spent    Left  Speed\n",
      "100  3780  100  3780    0     0   8325      0 --:--:-- --:--:-- --:--:--  8307\n"
     ]
    }
   ],
   "source": [
    "!curl https://raw.githubusercontent.com/ShubhankarRawat/Mall-Customers-Segmentation/master/data.csv\\\n",
    "    -o customer.csv"
   ]
  },
  {
   "cell_type": "code",
   "execution_count": 3,
   "metadata": {
    "colab": {
     "base_uri": "https://localhost:8080/",
     "height": 190
    },
    "colab_type": "code",
    "executionInfo": {
     "elapsed": 4036,
     "status": "ok",
     "timestamp": 1572828551386,
     "user": {
      "displayName": "김화종",
      "photoUrl": "https://lh3.googleusercontent.com/a-/AAuE7mCOtXjyLykQ_8l9Pq2rL3r5y110ynjRS1eb1EzpcQ=s64",
      "userId": "17353049580175403985"
     },
     "user_tz": -540
    },
    "id": "Bc4n7XbeBwM-",
    "outputId": "b960258e-9211-40ee-9b1f-5933f2095cfc"
   },
   "outputs": [
    {
     "name": "stdout",
     "output_type": "stream",
     "text": [
      "CustomerID,Gender,Age,Annual Income (k$),Spending Score (1-100)\r\n",
      "1,Male,19,15,39\r\n",
      "2,Male,21,15,81\r\n",
      "3,Female,20,16,6\r\n",
      "4,Female,23,16,77\r\n",
      "5,Female,31,17,40\r\n",
      "6,Female,22,17,76\r\n",
      "7,Female,35,18,6\r\n",
      "8,Female,23,18,94\r\n",
      "9,Male,64,19,3\r\n"
     ]
    }
   ],
   "source": [
    "!head -10 customer.csv"
   ]
  },
  {
   "cell_type": "code",
   "execution_count": 4,
   "metadata": {
    "colab": {
     "base_uri": "https://localhost:8080/",
     "height": 198
    },
    "colab_type": "code",
    "executionInfo": {
     "elapsed": 692,
     "status": "ok",
     "timestamp": 1572828552030,
     "user": {
      "displayName": "김화종",
      "photoUrl": "https://lh3.googleusercontent.com/a-/AAuE7mCOtXjyLykQ_8l9Pq2rL3r5y110ynjRS1eb1EzpcQ=s64",
      "userId": "17353049580175403985"
     },
     "user_tz": -540
    },
    "id": "O2HD75K4BWU5",
    "outputId": "f6d57c38-f5fc-4921-d250-3dbe6c39544e"
   },
   "outputs": [
    {
     "data": {
      "text/html": [
       "<div>\n",
       "<style scoped>\n",
       "    .dataframe tbody tr th:only-of-type {\n",
       "        vertical-align: middle;\n",
       "    }\n",
       "\n",
       "    .dataframe tbody tr th {\n",
       "        vertical-align: top;\n",
       "    }\n",
       "\n",
       "    .dataframe thead th {\n",
       "        text-align: right;\n",
       "    }\n",
       "</style>\n",
       "<table border=\"1\" class=\"dataframe\">\n",
       "  <thead>\n",
       "    <tr style=\"text-align: right;\">\n",
       "      <th></th>\n",
       "      <th>CustomerID</th>\n",
       "      <th>Gender</th>\n",
       "      <th>Age</th>\n",
       "      <th>Annual Income (k$)</th>\n",
       "      <th>Spending Score (1-100)</th>\n",
       "    </tr>\n",
       "  </thead>\n",
       "  <tbody>\n",
       "    <tr>\n",
       "      <th>0</th>\n",
       "      <td>1</td>\n",
       "      <td>Male</td>\n",
       "      <td>19</td>\n",
       "      <td>15</td>\n",
       "      <td>39</td>\n",
       "    </tr>\n",
       "    <tr>\n",
       "      <th>1</th>\n",
       "      <td>2</td>\n",
       "      <td>Male</td>\n",
       "      <td>21</td>\n",
       "      <td>15</td>\n",
       "      <td>81</td>\n",
       "    </tr>\n",
       "    <tr>\n",
       "      <th>2</th>\n",
       "      <td>3</td>\n",
       "      <td>Female</td>\n",
       "      <td>20</td>\n",
       "      <td>16</td>\n",
       "      <td>6</td>\n",
       "    </tr>\n",
       "    <tr>\n",
       "      <th>3</th>\n",
       "      <td>4</td>\n",
       "      <td>Female</td>\n",
       "      <td>23</td>\n",
       "      <td>16</td>\n",
       "      <td>77</td>\n",
       "    </tr>\n",
       "    <tr>\n",
       "      <th>4</th>\n",
       "      <td>5</td>\n",
       "      <td>Female</td>\n",
       "      <td>31</td>\n",
       "      <td>17</td>\n",
       "      <td>40</td>\n",
       "    </tr>\n",
       "  </tbody>\n",
       "</table>\n",
       "</div>"
      ],
      "text/plain": [
       "   CustomerID  Gender  Age  Annual Income (k$)  Spending Score (1-100)\n",
       "0           1    Male   19                  15                      39\n",
       "1           2    Male   21                  15                      81\n",
       "2           3  Female   20                  16                       6\n",
       "3           4  Female   23                  16                      77\n",
       "4           5  Female   31                  17                      40"
      ]
     },
     "execution_count": 4,
     "metadata": {},
     "output_type": "execute_result"
    }
   ],
   "source": [
    "df = pd.read_csv('customer.csv')\n",
    "df.head()"
   ]
  },
  {
   "cell_type": "code",
   "execution_count": 5,
   "metadata": {
    "colab": {
     "base_uri": "https://localhost:8080/",
     "height": 190
    },
    "colab_type": "code",
    "executionInfo": {
     "elapsed": 539,
     "status": "ok",
     "timestamp": 1572828553168,
     "user": {
      "displayName": "김화종",
      "photoUrl": "https://lh3.googleusercontent.com/a-/AAuE7mCOtXjyLykQ_8l9Pq2rL3r5y110ynjRS1eb1EzpcQ=s64",
      "userId": "17353049580175403985"
     },
     "user_tz": -540
    },
    "id": "Q8bml7lxBWU8",
    "outputId": "b027a90e-16c3-4ab3-9f20-682be2121afe"
   },
   "outputs": [
    {
     "name": "stdout",
     "output_type": "stream",
     "text": [
      "<class 'pandas.core.frame.DataFrame'>\n",
      "RangeIndex: 200 entries, 0 to 199\n",
      "Data columns (total 5 columns):\n",
      " #   Column                  Non-Null Count  Dtype \n",
      "---  ------                  --------------  ----- \n",
      " 0   CustomerID              200 non-null    int64 \n",
      " 1   Gender                  200 non-null    object\n",
      " 2   Age                     200 non-null    int64 \n",
      " 3   Annual Income (k$)      200 non-null    int64 \n",
      " 4   Spending Score (1-100)  200 non-null    int64 \n",
      "dtypes: int64(4), object(1)\n",
      "memory usage: 7.9+ KB\n"
     ]
    }
   ],
   "source": [
    "df.info()"
   ]
  },
  {
   "cell_type": "code",
   "execution_count": 6,
   "metadata": {
    "colab": {
     "base_uri": "https://localhost:8080/",
     "height": 121
    },
    "colab_type": "code",
    "executionInfo": {
     "elapsed": 613,
     "status": "ok",
     "timestamp": 1572828554263,
     "user": {
      "displayName": "김화종",
      "photoUrl": "https://lh3.googleusercontent.com/a-/AAuE7mCOtXjyLykQ_8l9Pq2rL3r5y110ynjRS1eb1EzpcQ=s64",
      "userId": "17353049580175403985"
     },
     "user_tz": -540
    },
    "id": "n-DR2H3OBWU_",
    "outputId": "144dbd07-bbad-450d-8b81-1230651048d2"
   },
   "outputs": [
    {
     "data": {
      "text/plain": [
       "CustomerID                0\n",
       "Gender                    0\n",
       "Age                       0\n",
       "Annual Income (k$)        0\n",
       "Spending Score (1-100)    0\n",
       "dtype: int64"
      ]
     },
     "execution_count": 6,
     "metadata": {},
     "output_type": "execute_result"
    }
   ],
   "source": [
    "df.isnull().sum()"
   ]
  },
  {
   "cell_type": "code",
   "execution_count": 7,
   "metadata": {
    "colab": {
     "base_uri": "https://localhost:8080/",
     "height": 288
    },
    "colab_type": "code",
    "executionInfo": {
     "elapsed": 886,
     "status": "ok",
     "timestamp": 1572828556013,
     "user": {
      "displayName": "김화종",
      "photoUrl": "https://lh3.googleusercontent.com/a-/AAuE7mCOtXjyLykQ_8l9Pq2rL3r5y110ynjRS1eb1EzpcQ=s64",
      "userId": "17353049580175403985"
     },
     "user_tz": -540
    },
    "id": "xXNH1AJ2BWVC",
    "outputId": "f88d946a-353e-417a-ea4e-fc4289a9d041"
   },
   "outputs": [
    {
     "data": {
      "text/html": [
       "<div>\n",
       "<style scoped>\n",
       "    .dataframe tbody tr th:only-of-type {\n",
       "        vertical-align: middle;\n",
       "    }\n",
       "\n",
       "    .dataframe tbody tr th {\n",
       "        vertical-align: top;\n",
       "    }\n",
       "\n",
       "    .dataframe thead th {\n",
       "        text-align: right;\n",
       "    }\n",
       "</style>\n",
       "<table border=\"1\" class=\"dataframe\">\n",
       "  <thead>\n",
       "    <tr style=\"text-align: right;\">\n",
       "      <th></th>\n",
       "      <th>CustomerID</th>\n",
       "      <th>Age</th>\n",
       "      <th>Annual Income (k$)</th>\n",
       "      <th>Spending Score (1-100)</th>\n",
       "    </tr>\n",
       "  </thead>\n",
       "  <tbody>\n",
       "    <tr>\n",
       "      <th>count</th>\n",
       "      <td>200.000000</td>\n",
       "      <td>200.000000</td>\n",
       "      <td>200.000000</td>\n",
       "      <td>200.000000</td>\n",
       "    </tr>\n",
       "    <tr>\n",
       "      <th>mean</th>\n",
       "      <td>100.500000</td>\n",
       "      <td>38.850000</td>\n",
       "      <td>60.560000</td>\n",
       "      <td>50.200000</td>\n",
       "    </tr>\n",
       "    <tr>\n",
       "      <th>std</th>\n",
       "      <td>57.879185</td>\n",
       "      <td>13.969007</td>\n",
       "      <td>26.264721</td>\n",
       "      <td>25.823522</td>\n",
       "    </tr>\n",
       "    <tr>\n",
       "      <th>min</th>\n",
       "      <td>1.000000</td>\n",
       "      <td>18.000000</td>\n",
       "      <td>15.000000</td>\n",
       "      <td>1.000000</td>\n",
       "    </tr>\n",
       "    <tr>\n",
       "      <th>25%</th>\n",
       "      <td>50.750000</td>\n",
       "      <td>28.750000</td>\n",
       "      <td>41.500000</td>\n",
       "      <td>34.750000</td>\n",
       "    </tr>\n",
       "    <tr>\n",
       "      <th>50%</th>\n",
       "      <td>100.500000</td>\n",
       "      <td>36.000000</td>\n",
       "      <td>61.500000</td>\n",
       "      <td>50.000000</td>\n",
       "    </tr>\n",
       "    <tr>\n",
       "      <th>75%</th>\n",
       "      <td>150.250000</td>\n",
       "      <td>49.000000</td>\n",
       "      <td>78.000000</td>\n",
       "      <td>73.000000</td>\n",
       "    </tr>\n",
       "    <tr>\n",
       "      <th>max</th>\n",
       "      <td>200.000000</td>\n",
       "      <td>70.000000</td>\n",
       "      <td>137.000000</td>\n",
       "      <td>99.000000</td>\n",
       "    </tr>\n",
       "  </tbody>\n",
       "</table>\n",
       "</div>"
      ],
      "text/plain": [
       "       CustomerID         Age  Annual Income (k$)  Spending Score (1-100)\n",
       "count  200.000000  200.000000          200.000000              200.000000\n",
       "mean   100.500000   38.850000           60.560000               50.200000\n",
       "std     57.879185   13.969007           26.264721               25.823522\n",
       "min      1.000000   18.000000           15.000000                1.000000\n",
       "25%     50.750000   28.750000           41.500000               34.750000\n",
       "50%    100.500000   36.000000           61.500000               50.000000\n",
       "75%    150.250000   49.000000           78.000000               73.000000\n",
       "max    200.000000   70.000000          137.000000               99.000000"
      ]
     },
     "execution_count": 7,
     "metadata": {},
     "output_type": "execute_result"
    }
   ],
   "source": [
    "df.describe()"
   ]
  },
  {
   "cell_type": "markdown",
   "metadata": {
    "colab_type": "text",
    "id": "LmFzSZa45hhX"
   },
   "source": [
    "# 원 핫 인코딩"
   ]
  },
  {
   "cell_type": "code",
   "execution_count": 9,
   "metadata": {
    "colab": {
     "base_uri": "https://localhost:8080/",
     "height": 198
    },
    "colab_type": "code",
    "executionInfo": {
     "elapsed": 520,
     "status": "ok",
     "timestamp": 1572828557148,
     "user": {
      "displayName": "김화종",
      "photoUrl": "https://lh3.googleusercontent.com/a-/AAuE7mCOtXjyLykQ_8l9Pq2rL3r5y110ynjRS1eb1EzpcQ=s64",
      "userId": "17353049580175403985"
     },
     "user_tz": -540
    },
    "id": "fMPcJwTiDYRS",
    "outputId": "4276503c-7fba-45da-8e49-ea0bf4b43164"
   },
   "outputs": [
    {
     "ename": "KeyError",
     "evalue": "\"None of [Index(['Gender'], dtype='object')] are in the [columns]\"",
     "output_type": "error",
     "traceback": [
      "\u001b[0;31m---------------------------------------------------------------------------\u001b[0m",
      "\u001b[0;31mKeyError\u001b[0m                                  Traceback (most recent call last)",
      "\u001b[0;32m<ipython-input-9-fe7c639206a8>\u001b[0m in \u001b[0;36m<module>\u001b[0;34m\u001b[0m\n\u001b[1;32m      1\u001b[0m \u001b[0;31m# 성별을 One Hot Encoding\u001b[0m\u001b[0;34m\u001b[0m\u001b[0;34m\u001b[0m\u001b[0;34m\u001b[0m\u001b[0m\n\u001b[0;32m----> 2\u001b[0;31m \u001b[0mdf\u001b[0m \u001b[0;34m=\u001b[0m \u001b[0mpd\u001b[0m\u001b[0;34m.\u001b[0m\u001b[0mget_dummies\u001b[0m\u001b[0;34m(\u001b[0m\u001b[0mdf\u001b[0m\u001b[0;34m,\u001b[0m \u001b[0mcolumns\u001b[0m \u001b[0;34m=\u001b[0m \u001b[0;34m[\u001b[0m\u001b[0;34m'Gender'\u001b[0m\u001b[0;34m]\u001b[0m\u001b[0;34m)\u001b[0m\u001b[0;34m\u001b[0m\u001b[0;34m\u001b[0m\u001b[0m\n\u001b[0m\u001b[1;32m      3\u001b[0m \u001b[0mdf\u001b[0m\u001b[0;34m[\u001b[0m\u001b[0;34m:\u001b[0m\u001b[0;36m5\u001b[0m\u001b[0;34m]\u001b[0m\u001b[0;34m\u001b[0m\u001b[0;34m\u001b[0m\u001b[0m\n",
      "\u001b[0;32m~/opt/anaconda3/lib/python3.7/site-packages/pandas/core/reshape/reshape.py\u001b[0m in \u001b[0;36mget_dummies\u001b[0;34m(data, prefix, prefix_sep, dummy_na, columns, sparse, drop_first, dtype)\u001b[0m\n\u001b[1;32m    866\u001b[0m             \u001b[0;32mraise\u001b[0m \u001b[0mTypeError\u001b[0m\u001b[0;34m(\u001b[0m\u001b[0;34m\"Input must be a list-like for parameter `columns`\"\u001b[0m\u001b[0;34m)\u001b[0m\u001b[0;34m\u001b[0m\u001b[0;34m\u001b[0m\u001b[0m\n\u001b[1;32m    867\u001b[0m         \u001b[0;32melse\u001b[0m\u001b[0;34m:\u001b[0m\u001b[0;34m\u001b[0m\u001b[0;34m\u001b[0m\u001b[0m\n\u001b[0;32m--> 868\u001b[0;31m             \u001b[0mdata_to_encode\u001b[0m \u001b[0;34m=\u001b[0m \u001b[0mdata\u001b[0m\u001b[0;34m[\u001b[0m\u001b[0mcolumns\u001b[0m\u001b[0;34m]\u001b[0m\u001b[0;34m\u001b[0m\u001b[0;34m\u001b[0m\u001b[0m\n\u001b[0m\u001b[1;32m    869\u001b[0m \u001b[0;34m\u001b[0m\u001b[0m\n\u001b[1;32m    870\u001b[0m         \u001b[0;31m# validate prefixes and separator to avoid silently dropping cols\u001b[0m\u001b[0;34m\u001b[0m\u001b[0;34m\u001b[0m\u001b[0;34m\u001b[0m\u001b[0m\n",
      "\u001b[0;32m~/opt/anaconda3/lib/python3.7/site-packages/pandas/core/frame.py\u001b[0m in \u001b[0;36m__getitem__\u001b[0;34m(self, key)\u001b[0m\n\u001b[1;32m   2804\u001b[0m             \u001b[0;32mif\u001b[0m \u001b[0mis_iterator\u001b[0m\u001b[0;34m(\u001b[0m\u001b[0mkey\u001b[0m\u001b[0;34m)\u001b[0m\u001b[0;34m:\u001b[0m\u001b[0;34m\u001b[0m\u001b[0;34m\u001b[0m\u001b[0m\n\u001b[1;32m   2805\u001b[0m                 \u001b[0mkey\u001b[0m \u001b[0;34m=\u001b[0m \u001b[0mlist\u001b[0m\u001b[0;34m(\u001b[0m\u001b[0mkey\u001b[0m\u001b[0;34m)\u001b[0m\u001b[0;34m\u001b[0m\u001b[0;34m\u001b[0m\u001b[0m\n\u001b[0;32m-> 2806\u001b[0;31m             \u001b[0mindexer\u001b[0m \u001b[0;34m=\u001b[0m \u001b[0mself\u001b[0m\u001b[0;34m.\u001b[0m\u001b[0mloc\u001b[0m\u001b[0;34m.\u001b[0m\u001b[0m_get_listlike_indexer\u001b[0m\u001b[0;34m(\u001b[0m\u001b[0mkey\u001b[0m\u001b[0;34m,\u001b[0m \u001b[0maxis\u001b[0m\u001b[0;34m=\u001b[0m\u001b[0;36m1\u001b[0m\u001b[0;34m,\u001b[0m \u001b[0mraise_missing\u001b[0m\u001b[0;34m=\u001b[0m\u001b[0;32mTrue\u001b[0m\u001b[0;34m)\u001b[0m\u001b[0;34m[\u001b[0m\u001b[0;36m1\u001b[0m\u001b[0;34m]\u001b[0m\u001b[0;34m\u001b[0m\u001b[0;34m\u001b[0m\u001b[0m\n\u001b[0m\u001b[1;32m   2807\u001b[0m \u001b[0;34m\u001b[0m\u001b[0m\n\u001b[1;32m   2808\u001b[0m         \u001b[0;31m# take() does not accept boolean indexers\u001b[0m\u001b[0;34m\u001b[0m\u001b[0;34m\u001b[0m\u001b[0;34m\u001b[0m\u001b[0m\n",
      "\u001b[0;32m~/opt/anaconda3/lib/python3.7/site-packages/pandas/core/indexing.py\u001b[0m in \u001b[0;36m_get_listlike_indexer\u001b[0;34m(self, key, axis, raise_missing)\u001b[0m\n\u001b[1;32m   1550\u001b[0m \u001b[0;34m\u001b[0m\u001b[0m\n\u001b[1;32m   1551\u001b[0m         self._validate_read_indexer(\n\u001b[0;32m-> 1552\u001b[0;31m             \u001b[0mkeyarr\u001b[0m\u001b[0;34m,\u001b[0m \u001b[0mindexer\u001b[0m\u001b[0;34m,\u001b[0m \u001b[0mo\u001b[0m\u001b[0;34m.\u001b[0m\u001b[0m_get_axis_number\u001b[0m\u001b[0;34m(\u001b[0m\u001b[0maxis\u001b[0m\u001b[0;34m)\u001b[0m\u001b[0;34m,\u001b[0m \u001b[0mraise_missing\u001b[0m\u001b[0;34m=\u001b[0m\u001b[0mraise_missing\u001b[0m\u001b[0;34m\u001b[0m\u001b[0;34m\u001b[0m\u001b[0m\n\u001b[0m\u001b[1;32m   1553\u001b[0m         )\n\u001b[1;32m   1554\u001b[0m         \u001b[0;32mreturn\u001b[0m \u001b[0mkeyarr\u001b[0m\u001b[0;34m,\u001b[0m \u001b[0mindexer\u001b[0m\u001b[0;34m\u001b[0m\u001b[0;34m\u001b[0m\u001b[0m\n",
      "\u001b[0;32m~/opt/anaconda3/lib/python3.7/site-packages/pandas/core/indexing.py\u001b[0m in \u001b[0;36m_validate_read_indexer\u001b[0;34m(self, key, indexer, axis, raise_missing)\u001b[0m\n\u001b[1;32m   1637\u001b[0m             \u001b[0;32mif\u001b[0m \u001b[0mmissing\u001b[0m \u001b[0;34m==\u001b[0m \u001b[0mlen\u001b[0m\u001b[0;34m(\u001b[0m\u001b[0mindexer\u001b[0m\u001b[0;34m)\u001b[0m\u001b[0;34m:\u001b[0m\u001b[0;34m\u001b[0m\u001b[0;34m\u001b[0m\u001b[0m\n\u001b[1;32m   1638\u001b[0m                 \u001b[0maxis_name\u001b[0m \u001b[0;34m=\u001b[0m \u001b[0mself\u001b[0m\u001b[0;34m.\u001b[0m\u001b[0mobj\u001b[0m\u001b[0;34m.\u001b[0m\u001b[0m_get_axis_name\u001b[0m\u001b[0;34m(\u001b[0m\u001b[0maxis\u001b[0m\u001b[0;34m)\u001b[0m\u001b[0;34m\u001b[0m\u001b[0;34m\u001b[0m\u001b[0m\n\u001b[0;32m-> 1639\u001b[0;31m                 \u001b[0;32mraise\u001b[0m \u001b[0mKeyError\u001b[0m\u001b[0;34m(\u001b[0m\u001b[0;34mf\"None of [{key}] are in the [{axis_name}]\"\u001b[0m\u001b[0;34m)\u001b[0m\u001b[0;34m\u001b[0m\u001b[0;34m\u001b[0m\u001b[0m\n\u001b[0m\u001b[1;32m   1640\u001b[0m \u001b[0;34m\u001b[0m\u001b[0m\n\u001b[1;32m   1641\u001b[0m             \u001b[0;31m# We (temporarily) allow for some missing keys with .loc, except in\u001b[0m\u001b[0;34m\u001b[0m\u001b[0;34m\u001b[0m\u001b[0;34m\u001b[0m\u001b[0m\n",
      "\u001b[0;31mKeyError\u001b[0m: \"None of [Index(['Gender'], dtype='object')] are in the [columns]\""
     ]
    }
   ],
   "source": [
    "# 성별을 One Hot Encoding \n",
    "df = pd.get_dummies(df, columns = ['Gender'])\n",
    "df[:5]"
   ]
  },
  {
   "cell_type": "code",
   "execution_count": 10,
   "metadata": {
    "colab": {
     "base_uri": "https://localhost:8080/",
     "height": 69
    },
    "colab_type": "code",
    "executionInfo": {
     "elapsed": 960,
     "status": "ok",
     "timestamp": 1572828559387,
     "user": {
      "displayName": "김화종",
      "photoUrl": "https://lh3.googleusercontent.com/a-/AAuE7mCOtXjyLykQ_8l9Pq2rL3r5y110ynjRS1eb1EzpcQ=s64",
      "userId": "17353049580175403985"
     },
     "user_tz": -540
    },
    "id": "12rEElyKeT9D",
    "outputId": "42adc343-0e9c-4cc2-db8e-e36c2c6f2d5d"
   },
   "outputs": [
    {
     "data": {
      "text/plain": [
       "Index(['CustomerID', 'Age', 'Annual Income (k$)', 'Spending Score (1-100)',\n",
       "       'Gender_Female', 'Gender_Male'],\n",
       "      dtype='object')"
      ]
     },
     "execution_count": 10,
     "metadata": {},
     "output_type": "execute_result"
    }
   ],
   "source": [
    "df.columns"
   ]
  },
  {
   "cell_type": "code",
   "execution_count": 11,
   "metadata": {
    "colab": {
     "base_uri": "https://localhost:8080/",
     "height": 471
    },
    "colab_type": "code",
    "executionInfo": {
     "elapsed": 1221,
     "status": "ok",
     "timestamp": 1572828561200,
     "user": {
      "displayName": "김화종",
      "photoUrl": "https://lh3.googleusercontent.com/a-/AAuE7mCOtXjyLykQ_8l9Pq2rL3r5y110ynjRS1eb1EzpcQ=s64",
      "userId": "17353049580175403985"
     },
     "user_tz": -540
    },
    "id": "7mOmBMWceOZw",
    "outputId": "d8fa9a3f-1774-466a-dcfd-ece16b77a33c"
   },
   "outputs": [
    {
     "data": {
      "text/plain": [
       "(array([1, 2, 3, 4, 5, 6]), <a list of 6 Text xticklabel objects>)"
      ]
     },
     "execution_count": 11,
     "metadata": {},
     "output_type": "execute_result"
    },
    {
     "data": {
      "image/png": "[encoded data removed]",
      "text/plain": [
       "<Figure size 576x432 with 1 Axes>"
      ]
     },
     "metadata": {
      "image/png": {
       "height": 438,
       "width": 487
      },
      "needs_background": "light"
     },
     "output_type": "display_data"
    }
   ],
   "source": [
    "df.boxplot(figsize=(8,6))\n",
    "plt.xticks(rotation=45)"
   ]
  },
  {
   "cell_type": "markdown",
   "metadata": {
    "colab_type": "text",
    "id": "Gd0Wrp8D5nXD"
   },
   "source": [
    "# 두 개의 컬럼(특성)만 사용 (연속 값)"
   ]
  },
  {
   "cell_type": "code",
   "execution_count": 12,
   "metadata": {
    "colab": {
     "base_uri": "https://localhost:8080/",
     "height": 296
    },
    "colab_type": "code",
    "executionInfo": {
     "elapsed": 1007,
     "status": "ok",
     "timestamp": 1572828563760,
     "user": {
      "displayName": "김화종",
      "photoUrl": "https://lh3.googleusercontent.com/a-/AAuE7mCOtXjyLykQ_8l9Pq2rL3r5y110ynjRS1eb1EzpcQ=s64",
      "userId": "17353049580175403985"
     },
     "user_tz": -540
    },
    "id": "YB9vQLFhfGX5",
    "outputId": "80a5b297-6098-49b3-ba1b-cd5c5676809b"
   },
   "outputs": [
    {
     "data": {
      "text/plain": [
       "Text(0, 0.5, 'Spending Score (1-100)')"
      ]
     },
     "execution_count": 12,
     "metadata": {},
     "output_type": "execute_result"
    },
    {
     "data": {
      "image/png": "[encoded data removed]",
      "text/plain": [
       "<Figure size 432x288 with 1 Axes>"
      ]
     },
     "metadata": {
      "image/png": {
       "height": 261,
       "width": 390
      },
      "needs_background": "light"
     },
     "output_type": "display_data"
    }
   ],
   "source": [
    "# plt.scatter(X.values[:,0],X.values[:,1])\n",
    "plt.scatter(df['Annual Income (k$)'],df['Spending Score (1-100)'])\n",
    "plt.xlabel('Annual Income (k$)')\n",
    "plt.ylabel('Spending Score (1-100)')"
   ]
  },
  {
   "cell_type": "markdown",
   "metadata": {
    "colab_type": "text",
    "id": "lNXnVlNp5u-T"
   },
   "source": [
    "## 스케일링"
   ]
  },
  {
   "cell_type": "code",
   "execution_count": 14,
   "metadata": {
    "collapsed": true
   },
   "outputs": [
    {
     "data": {
      "text/html": [
       "<div>\n",
       "<style scoped>\n",
       "    .dataframe tbody tr th:only-of-type {\n",
       "        vertical-align: middle;\n",
       "    }\n",
       "\n",
       "    .dataframe tbody tr th {\n",
       "        vertical-align: top;\n",
       "    }\n",
       "\n",
       "    .dataframe thead th {\n",
       "        text-align: right;\n",
       "    }\n",
       "</style>\n",
       "<table border=\"1\" class=\"dataframe\">\n",
       "  <thead>\n",
       "    <tr style=\"text-align: right;\">\n",
       "      <th></th>\n",
       "      <th>Annual Income (k$)</th>\n",
       "      <th>Spending Score (1-100)</th>\n",
       "    </tr>\n",
       "  </thead>\n",
       "  <tbody>\n",
       "    <tr>\n",
       "      <th>0</th>\n",
       "      <td>15</td>\n",
       "      <td>39</td>\n",
       "    </tr>\n",
       "    <tr>\n",
       "      <th>1</th>\n",
       "      <td>15</td>\n",
       "      <td>81</td>\n",
       "    </tr>\n",
       "    <tr>\n",
       "      <th>2</th>\n",
       "      <td>16</td>\n",
       "      <td>6</td>\n",
       "    </tr>\n",
       "    <tr>\n",
       "      <th>3</th>\n",
       "      <td>16</td>\n",
       "      <td>77</td>\n",
       "    </tr>\n",
       "    <tr>\n",
       "      <th>4</th>\n",
       "      <td>17</td>\n",
       "      <td>40</td>\n",
       "    </tr>\n",
       "    <tr>\n",
       "      <th>...</th>\n",
       "      <td>...</td>\n",
       "      <td>...</td>\n",
       "    </tr>\n",
       "    <tr>\n",
       "      <th>195</th>\n",
       "      <td>120</td>\n",
       "      <td>79</td>\n",
       "    </tr>\n",
       "    <tr>\n",
       "      <th>196</th>\n",
       "      <td>126</td>\n",
       "      <td>28</td>\n",
       "    </tr>\n",
       "    <tr>\n",
       "      <th>197</th>\n",
       "      <td>126</td>\n",
       "      <td>74</td>\n",
       "    </tr>\n",
       "    <tr>\n",
       "      <th>198</th>\n",
       "      <td>137</td>\n",
       "      <td>18</td>\n",
       "    </tr>\n",
       "    <tr>\n",
       "      <th>199</th>\n",
       "      <td>137</td>\n",
       "      <td>83</td>\n",
       "    </tr>\n",
       "  </tbody>\n",
       "</table>\n",
       "<p>200 rows × 2 columns</p>\n",
       "</div>"
      ],
      "text/plain": [
       "     Annual Income (k$)  Spending Score (1-100)\n",
       "0                    15                      39\n",
       "1                    15                      81\n",
       "2                    16                       6\n",
       "3                    16                      77\n",
       "4                    17                      40\n",
       "..                  ...                     ...\n",
       "195                 120                      79\n",
       "196                 126                      28\n",
       "197                 126                      74\n",
       "198                 137                      18\n",
       "199                 137                      83\n",
       "\n",
       "[200 rows x 2 columns]"
      ]
     },
     "execution_count": 14,
     "metadata": {},
     "output_type": "execute_result"
    }
   ],
   "source": [
    "df[continuous]"
   ]
  },
  {
   "cell_type": "code",
   "execution_count": 13,
   "metadata": {
    "colab": {
     "base_uri": "https://localhost:8080/",
     "height": 69
    },
    "colab_type": "code",
    "executionInfo": {
     "elapsed": 1126,
     "status": "ok",
     "timestamp": 1572828570177,
     "user": {
      "displayName": "김화종",
      "photoUrl": "https://lh3.googleusercontent.com/a-/AAuE7mCOtXjyLykQ_8l9Pq2rL3r5y110ynjRS1eb1EzpcQ=s64",
      "userId": "17353049580175403985"
     },
     "user_tz": -540
    },
    "id": "uBEbvdAWqaHG",
    "outputId": "acd0d925-6909-46e2-bc95-2cb4add126da"
   },
   "outputs": [
    {
     "data": {
      "text/plain": [
       "array([[-1.73899919, -0.43480148],\n",
       "       [-1.73899919,  1.19570407],\n",
       "       [-1.70082976, -1.71591298],\n",
       "       [-1.70082976,  1.04041783],\n",
       "       [-1.66266033, -0.39597992]])"
      ]
     },
     "execution_count": 13,
     "metadata": {},
     "output_type": "execute_result"
    }
   ],
   "source": [
    "from sklearn.preprocessing import StandardScaler\n",
    "scaler = StandardScaler()\n",
    "continuous = ['Annual Income (k$)', 'Spending Score (1-100)']\n",
    "df_scale = scaler.fit_transform(df[continuous])\n",
    "df_scale[:5] # 데이터프레임이 ndarray로 자동으로 변환된다"
   ]
  },
  {
   "cell_type": "code",
   "execution_count": 16,
   "metadata": {
    "collapsed": true
   },
   "outputs": [
    {
     "data": {
      "text/plain": [
       "array([[-1.73899919, -0.43480148],\n",
       "       [-1.73899919,  1.19570407],\n",
       "       [-1.70082976, -1.71591298],\n",
       "       [-1.70082976,  1.04041783],\n",
       "       [-1.66266033, -0.39597992],\n",
       "       [-1.66266033,  1.00159627],\n",
       "       [-1.62449091, -1.71591298],\n",
       "       [-1.62449091,  1.70038436],\n",
       "       [-1.58632148, -1.83237767],\n",
       "       [-1.58632148,  0.84631002],\n",
       "       [-1.58632148, -1.4053405 ],\n",
       "       [-1.58632148,  1.89449216],\n",
       "       [-1.54815205, -1.36651894],\n",
       "       [-1.54815205,  1.04041783],\n",
       "       [-1.54815205, -1.44416206],\n",
       "       [-1.54815205,  1.11806095],\n",
       "       [-1.50998262, -0.59008772],\n",
       "       [-1.50998262,  0.61338066],\n",
       "       [-1.43364376, -0.82301709],\n",
       "       [-1.43364376,  1.8556706 ],\n",
       "       [-1.39547433, -0.59008772],\n",
       "       [-1.39547433,  0.88513158],\n",
       "       [-1.3573049 , -1.75473454],\n",
       "       [-1.3573049 ,  0.88513158],\n",
       "       [-1.24279661, -1.4053405 ],\n",
       "       [-1.24279661,  1.23452563],\n",
       "       [-1.24279661, -0.7065524 ],\n",
       "       [-1.24279661,  0.41927286],\n",
       "       [-1.20462718, -0.74537397],\n",
       "       [-1.20462718,  1.42863343],\n",
       "       [-1.16645776, -1.7935561 ],\n",
       "       [-1.16645776,  0.88513158],\n",
       "       [-1.05194947, -1.7935561 ],\n",
       "       [-1.05194947,  1.62274124],\n",
       "       [-1.05194947, -1.4053405 ],\n",
       "       [-1.05194947,  1.19570407],\n",
       "       [-1.01378004, -1.28887582],\n",
       "       [-1.01378004,  0.88513158],\n",
       "       [-0.89927175, -0.93948177],\n",
       "       [-0.89927175,  0.96277471],\n",
       "       [-0.86110232, -0.59008772],\n",
       "       [-0.86110232,  1.62274124],\n",
       "       [-0.82293289, -0.55126616],\n",
       "       [-0.82293289,  0.41927286],\n",
       "       [-0.82293289, -0.86183865],\n",
       "       [-0.82293289,  0.5745591 ],\n",
       "       [-0.78476346,  0.18634349],\n",
       "       [-0.78476346, -0.12422899],\n",
       "       [-0.78476346, -0.3183368 ],\n",
       "       [-0.78476346, -0.3183368 ],\n",
       "       [-0.70842461,  0.06987881],\n",
       "       [-0.70842461,  0.38045129],\n",
       "       [-0.67025518,  0.14752193],\n",
       "       [-0.67025518,  0.38045129],\n",
       "       [-0.67025518, -0.20187212],\n",
       "       [-0.67025518, -0.35715836],\n",
       "       [-0.63208575, -0.00776431],\n",
       "       [-0.63208575, -0.16305055],\n",
       "       [-0.55574689,  0.03105725],\n",
       "       [-0.55574689, -0.16305055],\n",
       "       [-0.55574689,  0.22516505],\n",
       "       [-0.55574689,  0.18634349],\n",
       "       [-0.51757746,  0.06987881],\n",
       "       [-0.51757746,  0.34162973],\n",
       "       [-0.47940803,  0.03105725],\n",
       "       [-0.47940803,  0.34162973],\n",
       "       [-0.47940803, -0.00776431],\n",
       "       [-0.47940803, -0.08540743],\n",
       "       [-0.47940803,  0.34162973],\n",
       "       [-0.47940803, -0.12422899],\n",
       "       [-0.4412386 ,  0.18634349],\n",
       "       [-0.4412386 , -0.3183368 ],\n",
       "       [-0.40306917, -0.04658587],\n",
       "       [-0.40306917,  0.22516505],\n",
       "       [-0.25039146, -0.12422899],\n",
       "       [-0.25039146,  0.14752193],\n",
       "       [-0.25039146,  0.10870037],\n",
       "       [-0.25039146, -0.08540743],\n",
       "       [-0.25039146,  0.06987881],\n",
       "       [-0.25039146, -0.3183368 ],\n",
       "       [-0.25039146,  0.03105725],\n",
       "       [-0.25039146,  0.18634349],\n",
       "       [-0.25039146, -0.35715836],\n",
       "       [-0.25039146, -0.24069368],\n",
       "       [-0.25039146,  0.26398661],\n",
       "       [-0.25039146, -0.16305055],\n",
       "       [-0.13588317,  0.30280817],\n",
       "       [-0.13588317,  0.18634349],\n",
       "       [-0.09771374,  0.38045129],\n",
       "       [-0.09771374, -0.16305055],\n",
       "       [-0.05954431,  0.18634349],\n",
       "       [-0.05954431, -0.35715836],\n",
       "       [-0.02137488, -0.04658587],\n",
       "       [-0.02137488, -0.39597992],\n",
       "       [-0.02137488, -0.3183368 ],\n",
       "       [-0.02137488,  0.06987881],\n",
       "       [-0.02137488, -0.12422899],\n",
       "       [-0.02137488, -0.00776431],\n",
       "       [ 0.01679455, -0.3183368 ],\n",
       "       [ 0.01679455, -0.04658587],\n",
       "       [ 0.05496398, -0.35715836],\n",
       "       [ 0.05496398, -0.08540743],\n",
       "       [ 0.05496398,  0.34162973],\n",
       "       [ 0.05496398,  0.18634349],\n",
       "       [ 0.05496398,  0.22516505],\n",
       "       [ 0.05496398, -0.3183368 ],\n",
       "       [ 0.09313341, -0.00776431],\n",
       "       [ 0.09313341, -0.16305055],\n",
       "       [ 0.09313341, -0.27951524],\n",
       "       [ 0.09313341, -0.08540743],\n",
       "       [ 0.09313341,  0.06987881],\n",
       "       [ 0.09313341,  0.14752193],\n",
       "       [ 0.13130284, -0.3183368 ],\n",
       "       [ 0.13130284, -0.16305055],\n",
       "       [ 0.16947227, -0.08540743],\n",
       "       [ 0.16947227, -0.00776431],\n",
       "       [ 0.16947227, -0.27951524],\n",
       "       [ 0.16947227,  0.34162973],\n",
       "       [ 0.24581112, -0.27951524],\n",
       "       [ 0.24581112,  0.26398661],\n",
       "       [ 0.24581112,  0.22516505],\n",
       "       [ 0.24581112, -0.39597992],\n",
       "       [ 0.32214998,  0.30280817],\n",
       "       [ 0.32214998,  1.58391968],\n",
       "       [ 0.36031941, -0.82301709],\n",
       "       [ 0.36031941,  1.04041783],\n",
       "       [ 0.39848884, -0.59008772],\n",
       "       [ 0.39848884,  1.73920592],\n",
       "       [ 0.39848884, -1.52180518],\n",
       "       [ 0.39848884,  0.96277471],\n",
       "       [ 0.39848884, -1.5994483 ],\n",
       "       [ 0.39848884,  0.96277471],\n",
       "       [ 0.43665827, -0.62890928],\n",
       "       [ 0.43665827,  0.80748846],\n",
       "       [ 0.4748277 , -1.75473454],\n",
       "       [ 0.4748277 ,  1.46745499],\n",
       "       [ 0.4748277 , -1.67709142],\n",
       "       [ 0.4748277 ,  0.88513158],\n",
       "       [ 0.51299713, -1.56062674],\n",
       "       [ 0.51299713,  0.84631002],\n",
       "       [ 0.55116656, -1.75473454],\n",
       "       [ 0.55116656,  1.6615628 ],\n",
       "       [ 0.58933599, -0.39597992],\n",
       "       [ 0.58933599,  1.42863343],\n",
       "       [ 0.62750542, -1.48298362],\n",
       "       [ 0.62750542,  1.81684904],\n",
       "       [ 0.62750542, -0.55126616],\n",
       "       [ 0.62750542,  0.92395314],\n",
       "       [ 0.66567484, -1.09476801],\n",
       "       [ 0.66567484,  1.54509812],\n",
       "       [ 0.66567484, -1.28887582],\n",
       "       [ 0.66567484,  1.46745499],\n",
       "       [ 0.66567484, -1.17241113],\n",
       "       [ 0.66567484,  1.00159627],\n",
       "       [ 0.66567484, -1.32769738],\n",
       "       [ 0.66567484,  1.50627656],\n",
       "       [ 0.66567484, -1.91002079],\n",
       "       [ 0.66567484,  1.07923939],\n",
       "       [ 0.66567484, -1.91002079],\n",
       "       [ 0.66567484,  0.88513158],\n",
       "       [ 0.70384427, -0.59008772],\n",
       "       [ 0.70384427,  1.27334719],\n",
       "       [ 0.78018313, -1.75473454],\n",
       "       [ 0.78018313,  1.6615628 ],\n",
       "       [ 0.93286085, -0.93948177],\n",
       "       [ 0.93286085,  0.96277471],\n",
       "       [ 0.97103028, -1.17241113],\n",
       "       [ 0.97103028,  1.73920592],\n",
       "       [ 1.00919971, -0.90066021],\n",
       "       [ 1.00919971,  0.49691598],\n",
       "       [ 1.00919971, -1.44416206],\n",
       "       [ 1.00919971,  0.96277471],\n",
       "       [ 1.00919971, -1.56062674],\n",
       "       [ 1.00919971,  1.62274124],\n",
       "       [ 1.04736914, -1.44416206],\n",
       "       [ 1.04736914,  1.38981187],\n",
       "       [ 1.04736914, -1.36651894],\n",
       "       [ 1.04736914,  0.72984534],\n",
       "       [ 1.23821628, -1.4053405 ],\n",
       "       [ 1.23821628,  1.54509812],\n",
       "       [ 1.390894  , -0.7065524 ],\n",
       "       [ 1.390894  ,  1.38981187],\n",
       "       [ 1.42906343, -1.36651894],\n",
       "       [ 1.42906343,  1.46745499],\n",
       "       [ 1.46723286, -0.43480148],\n",
       "       [ 1.46723286,  1.81684904],\n",
       "       [ 1.54357172, -1.01712489],\n",
       "       [ 1.54357172,  0.69102378],\n",
       "       [ 1.61991057, -1.28887582],\n",
       "       [ 1.61991057,  1.35099031],\n",
       "       [ 1.61991057, -1.05594645],\n",
       "       [ 1.61991057,  0.72984534],\n",
       "       [ 2.00160487, -1.63826986],\n",
       "       [ 2.00160487,  1.58391968],\n",
       "       [ 2.26879087, -1.32769738],\n",
       "       [ 2.26879087,  1.11806095],\n",
       "       [ 2.49780745, -0.86183865],\n",
       "       [ 2.49780745,  0.92395314],\n",
       "       [ 2.91767117, -1.25005425],\n",
       "       [ 2.91767117,  1.27334719]])"
      ]
     },
     "execution_count": 16,
     "metadata": {},
     "output_type": "execute_result"
    }
   ],
   "source": [
    "df_scale"
   ]
  },
  {
   "cell_type": "code",
   "execution_count": 15,
   "metadata": {
    "colab": {
     "base_uri": "https://localhost:8080/",
     "height": 138
    },
    "colab_type": "code",
    "executionInfo": {
     "elapsed": 902,
     "status": "ok",
     "timestamp": 1572828572322,
     "user": {
      "displayName": "김화종",
      "photoUrl": "https://lh3.googleusercontent.com/a-/AAuE7mCOtXjyLykQ_8l9Pq2rL3r5y110ynjRS1eb1EzpcQ=s64",
      "userId": "17353049580175403985"
     },
     "user_tz": -540
    },
    "id": "fhRJUpuIs-Sk",
    "outputId": "5045260b-1768-4617-cfc8-6fe2379a569f"
   },
   "outputs": [
    {
     "data": {
      "text/html": [
       "<div>\n",
       "<style scoped>\n",
       "    .dataframe tbody tr th:only-of-type {\n",
       "        vertical-align: middle;\n",
       "    }\n",
       "\n",
       "    .dataframe tbody tr th {\n",
       "        vertical-align: top;\n",
       "    }\n",
       "\n",
       "    .dataframe thead th {\n",
       "        text-align: right;\n",
       "    }\n",
       "</style>\n",
       "<table border=\"1\" class=\"dataframe\">\n",
       "  <thead>\n",
       "    <tr style=\"text-align: right;\">\n",
       "      <th></th>\n",
       "      <th>CustomerID</th>\n",
       "      <th>Age</th>\n",
       "      <th>Annual Income (k$)</th>\n",
       "      <th>Spending Score (1-100)</th>\n",
       "      <th>Gender_Female</th>\n",
       "      <th>Gender_Male</th>\n",
       "    </tr>\n",
       "  </thead>\n",
       "  <tbody>\n",
       "    <tr>\n",
       "      <th>0</th>\n",
       "      <td>1</td>\n",
       "      <td>19</td>\n",
       "      <td>15</td>\n",
       "      <td>39</td>\n",
       "      <td>0</td>\n",
       "      <td>1</td>\n",
       "    </tr>\n",
       "    <tr>\n",
       "      <th>1</th>\n",
       "      <td>2</td>\n",
       "      <td>21</td>\n",
       "      <td>15</td>\n",
       "      <td>81</td>\n",
       "      <td>0</td>\n",
       "      <td>1</td>\n",
       "    </tr>\n",
       "    <tr>\n",
       "      <th>2</th>\n",
       "      <td>3</td>\n",
       "      <td>20</td>\n",
       "      <td>16</td>\n",
       "      <td>6</td>\n",
       "      <td>1</td>\n",
       "      <td>0</td>\n",
       "    </tr>\n",
       "    <tr>\n",
       "      <th>3</th>\n",
       "      <td>4</td>\n",
       "      <td>23</td>\n",
       "      <td>16</td>\n",
       "      <td>77</td>\n",
       "      <td>1</td>\n",
       "      <td>0</td>\n",
       "    </tr>\n",
       "    <tr>\n",
       "      <th>4</th>\n",
       "      <td>5</td>\n",
       "      <td>31</td>\n",
       "      <td>17</td>\n",
       "      <td>40</td>\n",
       "      <td>1</td>\n",
       "      <td>0</td>\n",
       "    </tr>\n",
       "  </tbody>\n",
       "</table>\n",
       "</div>"
      ],
      "text/plain": [
       "   CustomerID  Age  Annual Income (k$)  Spending Score (1-100)  Gender_Female  \\\n",
       "0           1   19                  15                      39              0   \n",
       "1           2   21                  15                      81              0   \n",
       "2           3   20                  16                       6              1   \n",
       "3           4   23                  16                      77              1   \n",
       "4           5   31                  17                      40              1   \n",
       "\n",
       "   Gender_Male  \n",
       "0            1  \n",
       "1            1  \n",
       "2            0  \n",
       "3            0  \n",
       "4            0  "
      ]
     },
     "execution_count": 15,
     "metadata": {},
     "output_type": "execute_result"
    }
   ],
   "source": [
    "df[:5] # 원래의 데이터프레임은 그대로"
   ]
  },
  {
   "cell_type": "markdown",
   "metadata": {
    "colab_type": "text",
    "id": "xNYYlUw75xq1"
   },
   "source": [
    "## (참고) 최적의 클러스터 수 찾기"
   ]
  },
  {
   "cell_type": "code",
   "execution_count": 17,
   "metadata": {
    "colab": {
     "base_uri": "https://localhost:8080/",
     "height": 295
    },
    "colab_type": "code",
    "executionInfo": {
     "elapsed": 1469,
     "status": "ok",
     "timestamp": 1572828575366,
     "user": {
      "displayName": "김화종",
      "photoUrl": "https://lh3.googleusercontent.com/a-/AAuE7mCOtXjyLykQ_8l9Pq2rL3r5y110ynjRS1eb1EzpcQ=s64",
      "userId": "17353049580175403985"
     },
     "user_tz": -540
    },
    "id": "EJcpgY4_BWVK",
    "outputId": "01110f50-a07d-409e-eec1-a099f866a99f",
    "scrolled": true
   },
   "outputs": [
    {
     "data": {
      "image/png": "[encoded data removed]",
      "text/plain": [
       "<Figure size 432x288 with 1 Axes>"
      ]
     },
     "metadata": {
      "image/png": {
       "height": 277,
       "width": 388
      },
      "needs_background": "light"
     },
     "output_type": "display_data"
    }
   ],
   "source": [
    "mass = []\n",
    "for i in range(1, 21):\n",
    "    kmeans = KMeans(n_clusters = i)\n",
    "    kmeans.fit(df_scale)\n",
    "    mass.append(kmeans.inertia_)\n",
    "plt.plot(range(1, 21), mass)\n",
    "plt.title('The Elbow Method')\n",
    "plt.xlabel('Number of clusters')\n",
    "plt.ylabel('mass')\n",
    "plt.show()"
   ]
  },
  {
   "cell_type": "code",
   "execution_count": null,
   "metadata": {},
   "outputs": [],
   "source": []
  },
  {
   "cell_type": "code",
   "execution_count": 18,
   "metadata": {},
   "outputs": [],
   "source": [
    "from sklearn.metrics import silhouette_samples, silhouette_score\n",
    "\n",
    "results =[]\n",
    "for c in range(2,21):\n",
    "  clusterer = KMeans(n_clusters=c)\n",
    "  cluster_labels = clusterer.fit_predict(df_scale)\n",
    "  silhouette_avg = silhouette_score(df_scale, cluster_labels)\n",
    "  results.append([c,silhouette_avg])"
   ]
  },
  {
   "cell_type": "code",
   "execution_count": 20,
   "metadata": {
    "collapsed": true
   },
   "outputs": [
    {
     "data": {
      "text/plain": [
       "[[2, 0.2932903073400333],\n",
       " [3, 0.46658474419000145],\n",
       " [4, 0.4939069237513199],\n",
       " [5, 0.5546571631111091],\n",
       " [6, 0.5378290321306309],\n",
       " [7, 0.5317107324040978],\n",
       " [8, 0.45543473014577757],\n",
       " [9, 0.45842922015102117],\n",
       " [10, 0.4583340630533439],\n",
       " [11, 0.449163994904316],\n",
       " [12, 0.42523627539251463],\n",
       " [13, 0.4111283420088448],\n",
       " [14, 0.424505865898535],\n",
       " [15, 0.4228021226541195],\n",
       " [16, 0.42138014780334765],\n",
       " [17, 0.4223375450482467],\n",
       " [18, 0.4152180863243005],\n",
       " [19, 0.4323675379232171],\n",
       " [20, 0.42516031909729285]]"
      ]
     },
     "execution_count": 20,
     "metadata": {},
     "output_type": "execute_result"
    }
   ],
   "source": [
    "results"
   ]
  },
  {
   "cell_type": "code",
   "execution_count": 21,
   "metadata": {},
   "outputs": [],
   "source": [
    "result = pd.DataFrame(results, columns=[\"n_clusters\",\"silhouette_score\"])"
   ]
  },
  {
   "cell_type": "code",
   "execution_count": 22,
   "metadata": {},
   "outputs": [
    {
     "data": {
      "text/html": [
       "<div>\n",
       "<style scoped>\n",
       "    .dataframe tbody tr th:only-of-type {\n",
       "        vertical-align: middle;\n",
       "    }\n",
       "\n",
       "    .dataframe tbody tr th {\n",
       "        vertical-align: top;\n",
       "    }\n",
       "\n",
       "    .dataframe thead th {\n",
       "        text-align: right;\n",
       "    }\n",
       "</style>\n",
       "<table border=\"1\" class=\"dataframe\">\n",
       "  <thead>\n",
       "    <tr style=\"text-align: right;\">\n",
       "      <th></th>\n",
       "      <th>n_clusters</th>\n",
       "      <th>silhouette_score</th>\n",
       "    </tr>\n",
       "  </thead>\n",
       "  <tbody>\n",
       "    <tr>\n",
       "      <th>0</th>\n",
       "      <td>2</td>\n",
       "      <td>0.293290</td>\n",
       "    </tr>\n",
       "    <tr>\n",
       "      <th>1</th>\n",
       "      <td>3</td>\n",
       "      <td>0.466585</td>\n",
       "    </tr>\n",
       "    <tr>\n",
       "      <th>2</th>\n",
       "      <td>4</td>\n",
       "      <td>0.493907</td>\n",
       "    </tr>\n",
       "    <tr>\n",
       "      <th>3</th>\n",
       "      <td>5</td>\n",
       "      <td>0.554657</td>\n",
       "    </tr>\n",
       "    <tr>\n",
       "      <th>4</th>\n",
       "      <td>6</td>\n",
       "      <td>0.537829</td>\n",
       "    </tr>\n",
       "    <tr>\n",
       "      <th>5</th>\n",
       "      <td>7</td>\n",
       "      <td>0.531711</td>\n",
       "    </tr>\n",
       "    <tr>\n",
       "      <th>6</th>\n",
       "      <td>8</td>\n",
       "      <td>0.455435</td>\n",
       "    </tr>\n",
       "    <tr>\n",
       "      <th>7</th>\n",
       "      <td>9</td>\n",
       "      <td>0.458429</td>\n",
       "    </tr>\n",
       "    <tr>\n",
       "      <th>8</th>\n",
       "      <td>10</td>\n",
       "      <td>0.458334</td>\n",
       "    </tr>\n",
       "    <tr>\n",
       "      <th>9</th>\n",
       "      <td>11</td>\n",
       "      <td>0.449164</td>\n",
       "    </tr>\n",
       "    <tr>\n",
       "      <th>10</th>\n",
       "      <td>12</td>\n",
       "      <td>0.425236</td>\n",
       "    </tr>\n",
       "    <tr>\n",
       "      <th>11</th>\n",
       "      <td>13</td>\n",
       "      <td>0.411128</td>\n",
       "    </tr>\n",
       "    <tr>\n",
       "      <th>12</th>\n",
       "      <td>14</td>\n",
       "      <td>0.424506</td>\n",
       "    </tr>\n",
       "    <tr>\n",
       "      <th>13</th>\n",
       "      <td>15</td>\n",
       "      <td>0.422802</td>\n",
       "    </tr>\n",
       "    <tr>\n",
       "      <th>14</th>\n",
       "      <td>16</td>\n",
       "      <td>0.421380</td>\n",
       "    </tr>\n",
       "    <tr>\n",
       "      <th>15</th>\n",
       "      <td>17</td>\n",
       "      <td>0.422338</td>\n",
       "    </tr>\n",
       "    <tr>\n",
       "      <th>16</th>\n",
       "      <td>18</td>\n",
       "      <td>0.415218</td>\n",
       "    </tr>\n",
       "    <tr>\n",
       "      <th>17</th>\n",
       "      <td>19</td>\n",
       "      <td>0.432368</td>\n",
       "    </tr>\n",
       "    <tr>\n",
       "      <th>18</th>\n",
       "      <td>20</td>\n",
       "      <td>0.425160</td>\n",
       "    </tr>\n",
       "  </tbody>\n",
       "</table>\n",
       "</div>"
      ],
      "text/plain": [
       "    n_clusters  silhouette_score\n",
       "0            2          0.293290\n",
       "1            3          0.466585\n",
       "2            4          0.493907\n",
       "3            5          0.554657\n",
       "4            6          0.537829\n",
       "5            7          0.531711\n",
       "6            8          0.455435\n",
       "7            9          0.458429\n",
       "8           10          0.458334\n",
       "9           11          0.449164\n",
       "10          12          0.425236\n",
       "11          13          0.411128\n",
       "12          14          0.424506\n",
       "13          15          0.422802\n",
       "14          16          0.421380\n",
       "15          17          0.422338\n",
       "16          18          0.415218\n",
       "17          19          0.432368\n",
       "18          20          0.425160"
      ]
     },
     "execution_count": 22,
     "metadata": {},
     "output_type": "execute_result"
    }
   ],
   "source": [
    "result"
   ]
  },
  {
   "cell_type": "code",
   "execution_count": null,
   "metadata": {},
   "outputs": [],
   "source": []
  },
  {
   "cell_type": "markdown",
   "metadata": {
    "colab_type": "text",
    "id": "CnlIburi552p"
   },
   "source": [
    "# 클러스터링\n",
    "- 두 개의 특성만 사용\n",
    "- k=5 선택"
   ]
  },
  {
   "cell_type": "code",
   "execution_count": 24,
   "metadata": {
    "colab": {},
    "colab_type": "code",
    "id": "Usgc8Ign2fGd"
   },
   "outputs": [
    {
     "name": "stdout",
     "output_type": "stream",
     "text": [
      "[2 1 2 1 2 1 2 1 2 1 2 1 2 1 2 1 2 1 2 1 2 1 2 1 2 1 2 1 2 1 2 1 2 1 2 1 2\n",
      " 1 2 1 2 1 2 0 2 1 0 0 0 0 0 0 0 0 0 0 0 0 0 0 0 0 0 0 0 0 0 0 0 0 0 0 0 0\n",
      " 0 0 0 0 0 0 0 0 0 0 0 0 0 0 0 0 0 0 0 0 0 0 0 0 0 0 0 0 0 0 0 0 0 0 0 0 0\n",
      " 0 0 0 0 0 0 0 0 0 0 0 0 3 4 3 0 3 4 3 4 3 0 3 4 3 4 3 4 3 4 3 0 3 4 3 4 3\n",
      " 4 3 4 3 4 3 4 3 4 3 4 3 4 3 4 3 4 3 4 3 4 3 4 3 4 3 4 3 4 3 4 3 4 3 4 3 4\n",
      " 3 4 3 4 3 4 3 4 3 4 3 4 3 4 3]\n"
     ]
    }
   ],
   "source": [
    "kmeans = KMeans(n_clusters = 5)\n",
    "kmeans.fit(df_scale)\n",
    "# print(kmeans.labels_)\n",
    "y_kmeans = kmeans.predict(df_scale)\n",
    "print(y_kmeans)"
   ]
  },
  {
   "cell_type": "code",
   "execution_count": 25,
   "metadata": {},
   "outputs": [
    {
     "data": {
      "text/plain": [
       "array([4, 1], dtype=int32)"
      ]
     },
     "execution_count": 25,
     "metadata": {},
     "output_type": "execute_result"
    }
   ],
   "source": [
    "kmeans.predict([[0.9,-0.4],[-0.7,0.8]])"
   ]
  },
  {
   "cell_type": "code",
   "execution_count": 26,
   "metadata": {
    "colab": {
     "base_uri": "https://localhost:8080/",
     "height": 391
    },
    "colab_type": "code",
    "executionInfo": {
     "elapsed": 1345,
     "status": "ok",
     "timestamp": 1572828590465,
     "user": {
      "displayName": "김화종",
      "photoUrl": "https://lh3.googleusercontent.com/a-/AAuE7mCOtXjyLykQ_8l9Pq2rL3r5y110ynjRS1eb1EzpcQ=s64",
      "userId": "17353049580175403985"
     },
     "user_tz": -540
    },
    "id": "0TbKJ1Ni2ZpT",
    "outputId": "7c3b70cd-cc2b-486b-c64b-56f9cdb777b4"
   },
   "outputs": [
    {
     "data": {
      "text/plain": [
       "<matplotlib.collections.PathCollection at 0x1a292860d0>"
      ]
     },
     "execution_count": 26,
     "metadata": {},
     "output_type": "execute_result"
    },
    {
     "data": {
      "image/png": "[encoded data removed]",
      "text/plain": [
       "<Figure size 576x432 with 1 Axes>"
      ]
     },
     "metadata": {
      "image/png": {
       "height": 357,
       "width": 487
      },
      "needs_background": "light"
     },
     "output_type": "display_data"
    }
   ],
   "source": [
    "plt.figure(figsize=(8, 6))\n",
    "plt.scatter(df['Annual Income (k$)'], df['Spending Score (1-100)'], c=y_kmeans)"
   ]
  },
  {
   "cell_type": "code",
   "execution_count": 27,
   "metadata": {
    "colab": {
     "base_uri": "https://localhost:8080/",
     "height": 215
    },
    "colab_type": "code",
    "executionInfo": {
     "elapsed": 963,
     "status": "ok",
     "timestamp": 1572828605512,
     "user": {
      "displayName": "김화종",
      "photoUrl": "https://lh3.googleusercontent.com/a-/AAuE7mCOtXjyLykQ_8l9Pq2rL3r5y110ynjRS1eb1EzpcQ=s64",
      "userId": "17353049580175403985"
     },
     "user_tz": -540
    },
    "id": "LCqg73wkBWVQ",
    "outputId": "0c460e6d-6020-49db-efe6-b4e71e23b7b3"
   },
   "outputs": [
    {
     "data": {
      "text/html": [
       "<div>\n",
       "<style scoped>\n",
       "    .dataframe tbody tr th:only-of-type {\n",
       "        vertical-align: middle;\n",
       "    }\n",
       "\n",
       "    .dataframe tbody tr th {\n",
       "        vertical-align: top;\n",
       "    }\n",
       "\n",
       "    .dataframe thead th {\n",
       "        text-align: right;\n",
       "    }\n",
       "</style>\n",
       "<table border=\"1\" class=\"dataframe\">\n",
       "  <thead>\n",
       "    <tr style=\"text-align: right;\">\n",
       "      <th></th>\n",
       "      <th>CustomerID</th>\n",
       "      <th>Age</th>\n",
       "      <th>Annual Income (k$)</th>\n",
       "      <th>Spending Score (1-100)</th>\n",
       "      <th>Gender_Female</th>\n",
       "      <th>Gender_Male</th>\n",
       "      <th>cluster</th>\n",
       "    </tr>\n",
       "  </thead>\n",
       "  <tbody>\n",
       "    <tr>\n",
       "      <th>0</th>\n",
       "      <td>1</td>\n",
       "      <td>19</td>\n",
       "      <td>15</td>\n",
       "      <td>39</td>\n",
       "      <td>0</td>\n",
       "      <td>1</td>\n",
       "      <td>2</td>\n",
       "    </tr>\n",
       "    <tr>\n",
       "      <th>1</th>\n",
       "      <td>2</td>\n",
       "      <td>21</td>\n",
       "      <td>15</td>\n",
       "      <td>81</td>\n",
       "      <td>0</td>\n",
       "      <td>1</td>\n",
       "      <td>1</td>\n",
       "    </tr>\n",
       "    <tr>\n",
       "      <th>2</th>\n",
       "      <td>3</td>\n",
       "      <td>20</td>\n",
       "      <td>16</td>\n",
       "      <td>6</td>\n",
       "      <td>1</td>\n",
       "      <td>0</td>\n",
       "      <td>2</td>\n",
       "    </tr>\n",
       "    <tr>\n",
       "      <th>3</th>\n",
       "      <td>4</td>\n",
       "      <td>23</td>\n",
       "      <td>16</td>\n",
       "      <td>77</td>\n",
       "      <td>1</td>\n",
       "      <td>0</td>\n",
       "      <td>1</td>\n",
       "    </tr>\n",
       "    <tr>\n",
       "      <th>4</th>\n",
       "      <td>5</td>\n",
       "      <td>31</td>\n",
       "      <td>17</td>\n",
       "      <td>40</td>\n",
       "      <td>1</td>\n",
       "      <td>0</td>\n",
       "      <td>2</td>\n",
       "    </tr>\n",
       "  </tbody>\n",
       "</table>\n",
       "</div>"
      ],
      "text/plain": [
       "   CustomerID  Age  Annual Income (k$)  Spending Score (1-100)  Gender_Female  \\\n",
       "0           1   19                  15                      39              0   \n",
       "1           2   21                  15                      81              0   \n",
       "2           3   20                  16                       6              1   \n",
       "3           4   23                  16                      77              1   \n",
       "4           5   31                  17                      40              1   \n",
       "\n",
       "   Gender_Male  cluster  \n",
       "0            1        2  \n",
       "1            1        1  \n",
       "2            0        2  \n",
       "3            0        1  \n",
       "4            0        2  "
      ]
     },
     "execution_count": 27,
     "metadata": {},
     "output_type": "execute_result"
    }
   ],
   "source": [
    "df[\"cluster\"] = y_kmeans\n",
    "df.head(5)"
   ]
  },
  {
   "cell_type": "code",
   "execution_count": 28,
   "metadata": {
    "colab": {
     "base_uri": "https://localhost:8080/",
     "height": 69
    },
    "colab_type": "code",
    "executionInfo": {
     "elapsed": 1095,
     "status": "ok",
     "timestamp": 1572828608540,
     "user": {
      "displayName": "김화종",
      "photoUrl": "https://lh3.googleusercontent.com/a-/AAuE7mCOtXjyLykQ_8l9Pq2rL3r5y110ynjRS1eb1EzpcQ=s64",
      "userId": "17353049580175403985"
     },
     "user_tz": -540
    },
    "id": "tQOS8T2tufEk",
    "outputId": "d99789b6-8660-405a-f747-dd78f027fb74"
   },
   "outputs": [
    {
     "data": {
      "text/plain": [
       "Index(['CustomerID', 'Age', 'Annual Income (k$)', 'Spending Score (1-100)',\n",
       "       'Gender_Female', 'Gender_Male', 'cluster'],\n",
       "      dtype='object')"
      ]
     },
     "execution_count": 28,
     "metadata": {},
     "output_type": "execute_result"
    }
   ],
   "source": [
    "df.columns"
   ]
  },
  {
   "cell_type": "code",
   "execution_count": 30,
   "metadata": {
    "colab": {},
    "colab_type": "code",
    "id": "CbW426wVBWVT"
   },
   "outputs": [],
   "source": [
    "df = df.drop(['CustomerID','cluster'], axis=1, errors='ignore')\n",
    "df_new=df.copy()\n",
    "df_new[continuous] = scaler.fit_transform(df_new[continuous])"
   ]
  },
  {
   "cell_type": "code",
   "execution_count": 31,
   "metadata": {
    "colab": {
     "base_uri": "https://localhost:8080/",
     "height": 138
    },
    "colab_type": "code",
    "executionInfo": {
     "elapsed": 875,
     "status": "ok",
     "timestamp": 1572828616892,
     "user": {
      "displayName": "김화종",
      "photoUrl": "https://lh3.googleusercontent.com/a-/AAuE7mCOtXjyLykQ_8l9Pq2rL3r5y110ynjRS1eb1EzpcQ=s64",
      "userId": "17353049580175403985"
     },
     "user_tz": -540
    },
    "id": "YT6y5JUywX4U",
    "outputId": "1fcf23b1-c0c3-463e-aeee-8e7c6f647d4e"
   },
   "outputs": [
    {
     "data": {
      "text/html": [
       "<div>\n",
       "<style scoped>\n",
       "    .dataframe tbody tr th:only-of-type {\n",
       "        vertical-align: middle;\n",
       "    }\n",
       "\n",
       "    .dataframe tbody tr th {\n",
       "        vertical-align: top;\n",
       "    }\n",
       "\n",
       "    .dataframe thead th {\n",
       "        text-align: right;\n",
       "    }\n",
       "</style>\n",
       "<table border=\"1\" class=\"dataframe\">\n",
       "  <thead>\n",
       "    <tr style=\"text-align: right;\">\n",
       "      <th></th>\n",
       "      <th>Age</th>\n",
       "      <th>Annual Income (k$)</th>\n",
       "      <th>Spending Score (1-100)</th>\n",
       "      <th>Gender_Female</th>\n",
       "      <th>Gender_Male</th>\n",
       "    </tr>\n",
       "  </thead>\n",
       "  <tbody>\n",
       "    <tr>\n",
       "      <th>0</th>\n",
       "      <td>19</td>\n",
       "      <td>-1.738999</td>\n",
       "      <td>-0.434801</td>\n",
       "      <td>0</td>\n",
       "      <td>1</td>\n",
       "    </tr>\n",
       "    <tr>\n",
       "      <th>1</th>\n",
       "      <td>21</td>\n",
       "      <td>-1.738999</td>\n",
       "      <td>1.195704</td>\n",
       "      <td>0</td>\n",
       "      <td>1</td>\n",
       "    </tr>\n",
       "    <tr>\n",
       "      <th>2</th>\n",
       "      <td>20</td>\n",
       "      <td>-1.700830</td>\n",
       "      <td>-1.715913</td>\n",
       "      <td>1</td>\n",
       "      <td>0</td>\n",
       "    </tr>\n",
       "  </tbody>\n",
       "</table>\n",
       "</div>"
      ],
      "text/plain": [
       "   Age  Annual Income (k$)  Spending Score (1-100)  Gender_Female  Gender_Male\n",
       "0   19           -1.738999               -0.434801              0            1\n",
       "1   21           -1.738999                1.195704              0            1\n",
       "2   20           -1.700830               -1.715913              1            0"
      ]
     },
     "execution_count": 31,
     "metadata": {},
     "output_type": "execute_result"
    }
   ],
   "source": [
    "df_new[:3]"
   ]
  },
  {
   "cell_type": "markdown",
   "metadata": {
    "colab_type": "text",
    "id": "gn_4nMup5-50"
   },
   "source": [
    "# 모든 특성 사용한 클러스터링"
   ]
  },
  {
   "cell_type": "code",
   "execution_count": 34,
   "metadata": {
    "colab": {
     "base_uri": "https://localhost:8080/",
     "height": 388
    },
    "colab_type": "code",
    "executionInfo": {
     "elapsed": 2274,
     "status": "ok",
     "timestamp": 1572828651296,
     "user": {
      "displayName": "김화종",
      "photoUrl": "https://lh3.googleusercontent.com/a-/AAuE7mCOtXjyLykQ_8l9Pq2rL3r5y110ynjRS1eb1EzpcQ=s64",
      "userId": "17353049580175403985"
     },
     "user_tz": -540
    },
    "id": "TQdfQjIIwmyX",
    "outputId": "bfe291f0-513f-4ed2-d2b3-f20b5a82cbfc"
   },
   "outputs": [
    {
     "data": {
      "text/plain": [
       "<matplotlib.collections.PathCollection at 0x1a2735a590>"
      ]
     },
     "execution_count": 34,
     "metadata": {},
     "output_type": "execute_result"
    },
    {
     "data": {
      "image/png": "[encoded data removed]",
      "text/plain": [
       "<Figure size 576x432 with 1 Axes>"
      ]
     },
     "metadata": {
      "image/png": {
       "height": 370,
       "width": 505
      },
      "needs_background": "light"
     },
     "output_type": "display_data"
    }
   ],
   "source": [
    "kmeans = KMeans(n_clusters = 5)\n",
    "y_kmeans = kmeans.fit_predict(df_new)\n",
    "plt.figure(figsize=(8, 6))\n",
    "plt.xlabel('Age')\n",
    "plt.ylabel('Spending Score (1-100)')\n",
    "plt.scatter(df_new['Age'], df_new['Spending Score (1-100)'], \n",
    "                    c=y_kmeans)   "
   ]
  },
  {
   "cell_type": "code",
   "execution_count": 25,
   "metadata": {
    "colab": {
     "base_uri": "https://localhost:8080/",
     "height": 648
    },
    "colab_type": "code",
    "executionInfo": {
     "elapsed": 511,
     "status": "ok",
     "timestamp": 1572828660767,
     "user": {
      "displayName": "김화종",
      "photoUrl": "https://lh3.googleusercontent.com/a-/AAuE7mCOtXjyLykQ_8l9Pq2rL3r5y110ynjRS1eb1EzpcQ=s64",
      "userId": "17353049580175403985"
     },
     "user_tz": -540
    },
    "id": "2JX-1yxpwqCi",
    "outputId": "954821a8-3229-4e01-b34f-721b9287d0f6"
   },
   "outputs": [
    {
     "data": {
      "text/html": [
       "<div>\n",
       "<style scoped>\n",
       "    .dataframe tbody tr th:only-of-type {\n",
       "        vertical-align: middle;\n",
       "    }\n",
       "\n",
       "    .dataframe tbody tr th {\n",
       "        vertical-align: top;\n",
       "    }\n",
       "\n",
       "    .dataframe thead th {\n",
       "        text-align: right;\n",
       "    }\n",
       "</style>\n",
       "<table border=\"1\" class=\"dataframe\">\n",
       "  <thead>\n",
       "    <tr style=\"text-align: right;\">\n",
       "      <th></th>\n",
       "      <th>Age</th>\n",
       "      <th>Annual Income (k$)</th>\n",
       "      <th>Spending Score (1-100)</th>\n",
       "      <th>Gender_Female</th>\n",
       "      <th>Gender_Male</th>\n",
       "      <th>cluster</th>\n",
       "    </tr>\n",
       "  </thead>\n",
       "  <tbody>\n",
       "    <tr>\n",
       "      <th>0</th>\n",
       "      <td>19</td>\n",
       "      <td>-1.738999</td>\n",
       "      <td>-0.434801</td>\n",
       "      <td>0</td>\n",
       "      <td>1</td>\n",
       "      <td>4</td>\n",
       "    </tr>\n",
       "    <tr>\n",
       "      <th>1</th>\n",
       "      <td>21</td>\n",
       "      <td>-1.738999</td>\n",
       "      <td>1.195704</td>\n",
       "      <td>0</td>\n",
       "      <td>1</td>\n",
       "      <td>4</td>\n",
       "    </tr>\n",
       "    <tr>\n",
       "      <th>2</th>\n",
       "      <td>20</td>\n",
       "      <td>-1.700830</td>\n",
       "      <td>-1.715913</td>\n",
       "      <td>1</td>\n",
       "      <td>0</td>\n",
       "      <td>4</td>\n",
       "    </tr>\n",
       "    <tr>\n",
       "      <th>3</th>\n",
       "      <td>23</td>\n",
       "      <td>-1.700830</td>\n",
       "      <td>1.040418</td>\n",
       "      <td>1</td>\n",
       "      <td>0</td>\n",
       "      <td>4</td>\n",
       "    </tr>\n",
       "    <tr>\n",
       "      <th>4</th>\n",
       "      <td>31</td>\n",
       "      <td>-1.662660</td>\n",
       "      <td>-0.395980</td>\n",
       "      <td>1</td>\n",
       "      <td>0</td>\n",
       "      <td>0</td>\n",
       "    </tr>\n",
       "    <tr>\n",
       "      <th>5</th>\n",
       "      <td>22</td>\n",
       "      <td>-1.662660</td>\n",
       "      <td>1.001596</td>\n",
       "      <td>1</td>\n",
       "      <td>0</td>\n",
       "      <td>4</td>\n",
       "    </tr>\n",
       "    <tr>\n",
       "      <th>6</th>\n",
       "      <td>35</td>\n",
       "      <td>-1.624491</td>\n",
       "      <td>-1.715913</td>\n",
       "      <td>1</td>\n",
       "      <td>0</td>\n",
       "      <td>3</td>\n",
       "    </tr>\n",
       "    <tr>\n",
       "      <th>7</th>\n",
       "      <td>23</td>\n",
       "      <td>-1.624491</td>\n",
       "      <td>1.700384</td>\n",
       "      <td>1</td>\n",
       "      <td>0</td>\n",
       "      <td>4</td>\n",
       "    </tr>\n",
       "    <tr>\n",
       "      <th>8</th>\n",
       "      <td>64</td>\n",
       "      <td>-1.586321</td>\n",
       "      <td>-1.832378</td>\n",
       "      <td>0</td>\n",
       "      <td>1</td>\n",
       "      <td>2</td>\n",
       "    </tr>\n",
       "    <tr>\n",
       "      <th>9</th>\n",
       "      <td>30</td>\n",
       "      <td>-1.586321</td>\n",
       "      <td>0.846310</td>\n",
       "      <td>1</td>\n",
       "      <td>0</td>\n",
       "      <td>0</td>\n",
       "    </tr>\n",
       "    <tr>\n",
       "      <th>10</th>\n",
       "      <td>67</td>\n",
       "      <td>-1.586321</td>\n",
       "      <td>-1.405340</td>\n",
       "      <td>0</td>\n",
       "      <td>1</td>\n",
       "      <td>2</td>\n",
       "    </tr>\n",
       "    <tr>\n",
       "      <th>11</th>\n",
       "      <td>35</td>\n",
       "      <td>-1.586321</td>\n",
       "      <td>1.894492</td>\n",
       "      <td>1</td>\n",
       "      <td>0</td>\n",
       "      <td>3</td>\n",
       "    </tr>\n",
       "    <tr>\n",
       "      <th>12</th>\n",
       "      <td>58</td>\n",
       "      <td>-1.548152</td>\n",
       "      <td>-1.366519</td>\n",
       "      <td>1</td>\n",
       "      <td>0</td>\n",
       "      <td>2</td>\n",
       "    </tr>\n",
       "    <tr>\n",
       "      <th>13</th>\n",
       "      <td>24</td>\n",
       "      <td>-1.548152</td>\n",
       "      <td>1.040418</td>\n",
       "      <td>1</td>\n",
       "      <td>0</td>\n",
       "      <td>4</td>\n",
       "    </tr>\n",
       "    <tr>\n",
       "      <th>14</th>\n",
       "      <td>37</td>\n",
       "      <td>-1.548152</td>\n",
       "      <td>-1.444162</td>\n",
       "      <td>0</td>\n",
       "      <td>1</td>\n",
       "      <td>3</td>\n",
       "    </tr>\n",
       "    <tr>\n",
       "      <th>15</th>\n",
       "      <td>22</td>\n",
       "      <td>-1.548152</td>\n",
       "      <td>1.118061</td>\n",
       "      <td>0</td>\n",
       "      <td>1</td>\n",
       "      <td>4</td>\n",
       "    </tr>\n",
       "    <tr>\n",
       "      <th>16</th>\n",
       "      <td>35</td>\n",
       "      <td>-1.509983</td>\n",
       "      <td>-0.590088</td>\n",
       "      <td>1</td>\n",
       "      <td>0</td>\n",
       "      <td>3</td>\n",
       "    </tr>\n",
       "    <tr>\n",
       "      <th>17</th>\n",
       "      <td>20</td>\n",
       "      <td>-1.509983</td>\n",
       "      <td>0.613381</td>\n",
       "      <td>0</td>\n",
       "      <td>1</td>\n",
       "      <td>4</td>\n",
       "    </tr>\n",
       "    <tr>\n",
       "      <th>18</th>\n",
       "      <td>52</td>\n",
       "      <td>-1.433644</td>\n",
       "      <td>-0.823017</td>\n",
       "      <td>0</td>\n",
       "      <td>1</td>\n",
       "      <td>1</td>\n",
       "    </tr>\n",
       "    <tr>\n",
       "      <th>19</th>\n",
       "      <td>35</td>\n",
       "      <td>-1.433644</td>\n",
       "      <td>1.855671</td>\n",
       "      <td>1</td>\n",
       "      <td>0</td>\n",
       "      <td>3</td>\n",
       "    </tr>\n",
       "  </tbody>\n",
       "</table>\n",
       "</div>"
      ],
      "text/plain": [
       "    Age  Annual Income (k$)  Spending Score (1-100)  Gender_Female  \\\n",
       "0    19           -1.738999               -0.434801              0   \n",
       "1    21           -1.738999                1.195704              0   \n",
       "2    20           -1.700830               -1.715913              1   \n",
       "3    23           -1.700830                1.040418              1   \n",
       "4    31           -1.662660               -0.395980              1   \n",
       "5    22           -1.662660                1.001596              1   \n",
       "6    35           -1.624491               -1.715913              1   \n",
       "7    23           -1.624491                1.700384              1   \n",
       "8    64           -1.586321               -1.832378              0   \n",
       "9    30           -1.586321                0.846310              1   \n",
       "10   67           -1.586321               -1.405340              0   \n",
       "11   35           -1.586321                1.894492              1   \n",
       "12   58           -1.548152               -1.366519              1   \n",
       "13   24           -1.548152                1.040418              1   \n",
       "14   37           -1.548152               -1.444162              0   \n",
       "15   22           -1.548152                1.118061              0   \n",
       "16   35           -1.509983               -0.590088              1   \n",
       "17   20           -1.509983                0.613381              0   \n",
       "18   52           -1.433644               -0.823017              0   \n",
       "19   35           -1.433644                1.855671              1   \n",
       "\n",
       "    Gender_Male  cluster  \n",
       "0             1        4  \n",
       "1             1        4  \n",
       "2             0        4  \n",
       "3             0        4  \n",
       "4             0        0  \n",
       "5             0        4  \n",
       "6             0        3  \n",
       "7             0        4  \n",
       "8             1        2  \n",
       "9             0        0  \n",
       "10            1        2  \n",
       "11            0        3  \n",
       "12            0        2  \n",
       "13            0        4  \n",
       "14            1        3  \n",
       "15            1        4  \n",
       "16            0        3  \n",
       "17            1        4  \n",
       "18            1        1  \n",
       "19            0        3  "
      ]
     },
     "execution_count": 25,
     "metadata": {},
     "output_type": "execute_result"
    }
   ],
   "source": [
    "df_new['cluster'] = y_kmeans\n",
    "df_new[:20]"
   ]
  },
  {
   "cell_type": "markdown",
   "metadata": {},
   "source": [
    "## 스케일링을 원래 스케일로 원상복귀\n",
    "- inverse_transform 사용"
   ]
  },
  {
   "cell_type": "code",
   "execution_count": 26,
   "metadata": {},
   "outputs": [],
   "source": [
    "df_new[continuous] = scaler.inverse_transform(df_new[continuous])"
   ]
  },
  {
   "cell_type": "code",
   "execution_count": 27,
   "metadata": {},
   "outputs": [
    {
     "data": {
      "text/html": [
       "<div>\n",
       "<style scoped>\n",
       "    .dataframe tbody tr th:only-of-type {\n",
       "        vertical-align: middle;\n",
       "    }\n",
       "\n",
       "    .dataframe tbody tr th {\n",
       "        vertical-align: top;\n",
       "    }\n",
       "\n",
       "    .dataframe thead th {\n",
       "        text-align: right;\n",
       "    }\n",
       "</style>\n",
       "<table border=\"1\" class=\"dataframe\">\n",
       "  <thead>\n",
       "    <tr style=\"text-align: right;\">\n",
       "      <th></th>\n",
       "      <th>Age</th>\n",
       "      <th>Annual Income (k$)</th>\n",
       "      <th>Spending Score (1-100)</th>\n",
       "      <th>Gender_Female</th>\n",
       "      <th>Gender_Male</th>\n",
       "      <th>cluster</th>\n",
       "    </tr>\n",
       "  </thead>\n",
       "  <tbody>\n",
       "    <tr>\n",
       "      <th>0</th>\n",
       "      <td>19</td>\n",
       "      <td>15.0</td>\n",
       "      <td>39.0</td>\n",
       "      <td>0</td>\n",
       "      <td>1</td>\n",
       "      <td>4</td>\n",
       "    </tr>\n",
       "    <tr>\n",
       "      <th>1</th>\n",
       "      <td>21</td>\n",
       "      <td>15.0</td>\n",
       "      <td>81.0</td>\n",
       "      <td>0</td>\n",
       "      <td>1</td>\n",
       "      <td>4</td>\n",
       "    </tr>\n",
       "    <tr>\n",
       "      <th>2</th>\n",
       "      <td>20</td>\n",
       "      <td>16.0</td>\n",
       "      <td>6.0</td>\n",
       "      <td>1</td>\n",
       "      <td>0</td>\n",
       "      <td>4</td>\n",
       "    </tr>\n",
       "    <tr>\n",
       "      <th>3</th>\n",
       "      <td>23</td>\n",
       "      <td>16.0</td>\n",
       "      <td>77.0</td>\n",
       "      <td>1</td>\n",
       "      <td>0</td>\n",
       "      <td>4</td>\n",
       "    </tr>\n",
       "    <tr>\n",
       "      <th>4</th>\n",
       "      <td>31</td>\n",
       "      <td>17.0</td>\n",
       "      <td>40.0</td>\n",
       "      <td>1</td>\n",
       "      <td>0</td>\n",
       "      <td>0</td>\n",
       "    </tr>\n",
       "    <tr>\n",
       "      <th>...</th>\n",
       "      <td>...</td>\n",
       "      <td>...</td>\n",
       "      <td>...</td>\n",
       "      <td>...</td>\n",
       "      <td>...</td>\n",
       "      <td>...</td>\n",
       "    </tr>\n",
       "    <tr>\n",
       "      <th>195</th>\n",
       "      <td>35</td>\n",
       "      <td>120.0</td>\n",
       "      <td>79.0</td>\n",
       "      <td>1</td>\n",
       "      <td>0</td>\n",
       "      <td>3</td>\n",
       "    </tr>\n",
       "    <tr>\n",
       "      <th>196</th>\n",
       "      <td>45</td>\n",
       "      <td>126.0</td>\n",
       "      <td>28.0</td>\n",
       "      <td>1</td>\n",
       "      <td>0</td>\n",
       "      <td>1</td>\n",
       "    </tr>\n",
       "    <tr>\n",
       "      <th>197</th>\n",
       "      <td>32</td>\n",
       "      <td>126.0</td>\n",
       "      <td>74.0</td>\n",
       "      <td>0</td>\n",
       "      <td>1</td>\n",
       "      <td>0</td>\n",
       "    </tr>\n",
       "    <tr>\n",
       "      <th>198</th>\n",
       "      <td>32</td>\n",
       "      <td>137.0</td>\n",
       "      <td>18.0</td>\n",
       "      <td>0</td>\n",
       "      <td>1</td>\n",
       "      <td>0</td>\n",
       "    </tr>\n",
       "    <tr>\n",
       "      <th>199</th>\n",
       "      <td>30</td>\n",
       "      <td>137.0</td>\n",
       "      <td>83.0</td>\n",
       "      <td>0</td>\n",
       "      <td>1</td>\n",
       "      <td>0</td>\n",
       "    </tr>\n",
       "  </tbody>\n",
       "</table>\n",
       "<p>200 rows × 6 columns</p>\n",
       "</div>"
      ],
      "text/plain": [
       "     Age  Annual Income (k$)  Spending Score (1-100)  Gender_Female  \\\n",
       "0     19                15.0                    39.0              0   \n",
       "1     21                15.0                    81.0              0   \n",
       "2     20                16.0                     6.0              1   \n",
       "3     23                16.0                    77.0              1   \n",
       "4     31                17.0                    40.0              1   \n",
       "..   ...                 ...                     ...            ...   \n",
       "195   35               120.0                    79.0              1   \n",
       "196   45               126.0                    28.0              1   \n",
       "197   32               126.0                    74.0              0   \n",
       "198   32               137.0                    18.0              0   \n",
       "199   30               137.0                    83.0              0   \n",
       "\n",
       "     Gender_Male  cluster  \n",
       "0              1        4  \n",
       "1              1        4  \n",
       "2              0        4  \n",
       "3              0        4  \n",
       "4              0        0  \n",
       "..           ...      ...  \n",
       "195            0        3  \n",
       "196            0        1  \n",
       "197            1        0  \n",
       "198            1        0  \n",
       "199            1        0  \n",
       "\n",
       "[200 rows x 6 columns]"
      ]
     },
     "execution_count": 27,
     "metadata": {},
     "output_type": "execute_result"
    }
   ],
   "source": [
    "df_new"
   ]
  },
  {
   "cell_type": "code",
   "execution_count": null,
   "metadata": {},
   "outputs": [],
   "source": []
  },
  {
   "cell_type": "code",
   "execution_count": null,
   "metadata": {},
   "outputs": [],
   "source": []
  }
 ],
 "metadata": {
  "colab": {
   "collapsed_sections": [],
   "name": "kb_4_고객세분화_클러스터링.ipynb",
   "provenance": []
  },
  "kernelspec": {
   "display_name": "Python 3",
   "language": "python",
   "name": "python3"
  },
  "language_info": {
   "codemirror_mode": {
    "name": "ipython",
    "version": 3
   },
   "file_extension": ".py",
   "mimetype": "text/x-python",
   "name": "python",
   "nbconvert_exporter": "python",
   "pygments_lexer": "ipython3",
   "version": "3.7.6"
  },
  "toc": {
   "base_numbering": 1,
   "nav_menu": {},
   "number_sections": true,
   "sideBar": true,
   "skip_h1_title": false,
   "title_cell": "Table of Contents",
   "title_sidebar": "Contents",
   "toc_cell": false,
   "toc_position": {},
   "toc_section_display": true,
   "toc_window_display": false
  }
 },
 "nbformat": 4,
 "nbformat_minor": 1
}
