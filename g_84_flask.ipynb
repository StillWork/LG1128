{
 "cells": [
  {
   "cell_type": "code",
   "execution_count": 1,
   "metadata": {
    "scrolled": true
   },
   "outputs": [
    {
     "name": "stdout",
     "output_type": "stream",
     "text": [
      "Requirement already satisfied: flask in /Users/hwa-jongkim/anaconda3/lib/python3.6/site-packages (1.0.2)\n",
      "Requirement already satisfied: Werkzeug>=0.14 in /Users/hwa-jongkim/anaconda3/lib/python3.6/site-packages (from flask) (0.14.1)\n",
      "Requirement already satisfied: itsdangerous>=0.24 in /Users/hwa-jongkim/anaconda3/lib/python3.6/site-packages (from flask) (0.24)\n",
      "Requirement already satisfied: click>=5.1 in /Users/hwa-jongkim/anaconda3/lib/python3.6/site-packages (from flask) (6.7)\n",
      "Requirement already satisfied: Jinja2>=2.10 in /Users/hwa-jongkim/anaconda3/lib/python3.6/site-packages (from flask) (2.10)\n",
      "Requirement already satisfied: MarkupSafe>=0.23 in /Users/hwa-jongkim/anaconda3/lib/python3.6/site-packages (from Jinja2>=2.10->flask) (1.0)\n"
     ]
    }
   ],
   "source": [
    "!pip install flask"
   ]
  },
  {
   "cell_type": "code",
   "execution_count": 6,
   "metadata": {},
   "outputs": [],
   "source": [
    "# 아래 내용을 app.py 파일에 저장한다\n",
    "from flask import Flask\n",
    "app = Flask(\"First\")\n",
    "\n",
    "@app.route('/')\n",
    "def hello_world():\n",
    "    return \"Hello World!\""
   ]
  },
  {
   "cell_type": "code",
   "execution_count": null,
   "metadata": {},
   "outputs": [
    {
     "name": "stdout",
     "output_type": "stream",
     "text": [
      " * Environment: production\n",
      "\u001b[31m   WARNING: Do not use the development server in a production environment.\u001b[0m\n",
      "\u001b[2m   Use a production WSGI server instead.\u001b[0m\n",
      " * Debug mode: off\n",
      " * Running on http://127.0.0.1:5000/ (Press CTRL+C to quit)\n",
      "127.0.0.1 - - [09/Mar/2019 19:42:36] \"\u001b[37mGET / HTTP/1.1\u001b[0m\" 200 -\n",
      "127.0.0.1 - - [09/Mar/2019 19:42:36] \"\u001b[33mGET /favicon.ico HTTP/1.1\u001b[0m\" 404 -\n"
     ]
    }
   ],
   "source": [
    "!export FLASK_APP=app.py\n",
    "!flask run\n",
    "# _ Serving Flask app \"app\"\n",
    "# _ Running on http://127.0.0.1:5000/ (Press CTRL+C to quit)"
   ]
  },
  {
   "cell_type": "code",
   "execution_count": null,
   "metadata": {},
   "outputs": [],
   "source": []
  }
 ],
 "metadata": {
  "kernelspec": {
   "display_name": "Python 3",
   "language": "python",
   "name": "python3"
  },
  "language_info": {
   "codemirror_mode": {
    "name": "ipython",
    "version": 3
   },
   "file_extension": ".py",
   "mimetype": "text/x-python",
   "name": "python",
   "nbconvert_exporter": "python",
   "pygments_lexer": "ipython3",
   "version": "3.6.6"
  }
 },
 "nbformat": 4,
 "nbformat_minor": 2
}
