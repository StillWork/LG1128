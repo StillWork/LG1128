{
 "cells": [
  {
   "cell_type": "markdown",
   "metadata": {
    "colab_type": "text",
    "id": "mgKnWaQi0Ygg"
   },
   "source": [
    "# 날씨 데이터 예측\n",
    "- 선형\n",
    "- 나이브\n",
    "- 프로핏\n"
   ]
  },
  {
   "cell_type": "code",
   "execution_count": 1,
   "metadata": {
    "colab": {},
    "colab_type": "code",
    "id": "2uPsZz6Z0Ygi"
   },
   "outputs": [],
   "source": [
    "import pandas as pd\n",
    "import matplotlib.pyplot as plt\n",
    "from sklearn.linear_model import LinearRegression\n",
    "from sklearn.metrics import r2_score\n",
    "import numpy as np\n",
    "%config InlineBackend.figure_format = 'retina'"
   ]
  },
  {
   "cell_type": "markdown",
   "metadata": {},
   "source": [
    "# 데이터\n",
    "- 날씨 데이터"
   ]
  },
  {
   "cell_type": "code",
   "execution_count": 2,
   "metadata": {
    "colab": {
     "base_uri": "https://localhost:8080/",
     "height": 35
    },
    "colab_type": "code",
    "executionInfo": {
     "elapsed": 2093,
     "status": "ok",
     "timestamp": 1573631194343,
     "user": {
      "displayName": "김화종",
      "photoUrl": "https://lh3.googleusercontent.com/a-/AAuE7mCOtXjyLykQ_8l9Pq2rL3r5y110ynjRS1eb1EzpcQ=s64",
      "userId": "17353049580175403985"
     },
     "user_tz": -540
    },
    "id": "j78wbP3P0Ygp",
    "outputId": "b622d5c7-c97e-4642-dc79-ea5ca4e5e605"
   },
   "outputs": [
    {
     "data": {
      "text/plain": [
       "(4018, 4)"
      ]
     },
     "execution_count": 2,
     "metadata": {},
     "output_type": "execute_result"
    }
   ],
   "source": [
    "df = pd.read_csv('https://raw.githubusercontent.com/StillWork/data/master/new_weather.csv')\n",
    "df.shape"
   ]
  },
  {
   "cell_type": "code",
   "execution_count": 3,
   "metadata": {},
   "outputs": [
    {
     "data": {
      "text/html": [
       "<div>\n",
       "<style scoped>\n",
       "    .dataframe tbody tr th:only-of-type {\n",
       "        vertical-align: middle;\n",
       "    }\n",
       "\n",
       "    .dataframe tbody tr th {\n",
       "        vertical-align: top;\n",
       "    }\n",
       "\n",
       "    .dataframe thead th {\n",
       "        text-align: right;\n",
       "    }\n",
       "</style>\n",
       "<table border=\"1\" class=\"dataframe\">\n",
       "  <thead>\n",
       "    <tr style=\"text-align: right;\">\n",
       "      <th></th>\n",
       "      <th>연월일</th>\n",
       "      <th>기온</th>\n",
       "      <th>품질</th>\n",
       "      <th>균질</th>\n",
       "    </tr>\n",
       "  </thead>\n",
       "  <tbody>\n",
       "    <tr>\n",
       "      <th>0</th>\n",
       "      <td>2006/1/1</td>\n",
       "      <td>3.6</td>\n",
       "      <td>8</td>\n",
       "      <td>1</td>\n",
       "    </tr>\n",
       "    <tr>\n",
       "      <th>1</th>\n",
       "      <td>2006/1/2</td>\n",
       "      <td>4.0</td>\n",
       "      <td>8</td>\n",
       "      <td>1</td>\n",
       "    </tr>\n",
       "    <tr>\n",
       "      <th>2</th>\n",
       "      <td>2006/1/3</td>\n",
       "      <td>3.7</td>\n",
       "      <td>8</td>\n",
       "      <td>1</td>\n",
       "    </tr>\n",
       "    <tr>\n",
       "      <th>3</th>\n",
       "      <td>2006/1/4</td>\n",
       "      <td>4.0</td>\n",
       "      <td>8</td>\n",
       "      <td>1</td>\n",
       "    </tr>\n",
       "    <tr>\n",
       "      <th>4</th>\n",
       "      <td>2006/1/5</td>\n",
       "      <td>3.6</td>\n",
       "      <td>8</td>\n",
       "      <td>1</td>\n",
       "    </tr>\n",
       "    <tr>\n",
       "      <th>...</th>\n",
       "      <td>...</td>\n",
       "      <td>...</td>\n",
       "      <td>...</td>\n",
       "      <td>...</td>\n",
       "    </tr>\n",
       "    <tr>\n",
       "      <th>4013</th>\n",
       "      <td>2016/12/27</td>\n",
       "      <td>11.1</td>\n",
       "      <td>8</td>\n",
       "      <td>2</td>\n",
       "    </tr>\n",
       "    <tr>\n",
       "      <th>4014</th>\n",
       "      <td>2016/12/28</td>\n",
       "      <td>6.0</td>\n",
       "      <td>8</td>\n",
       "      <td>2</td>\n",
       "    </tr>\n",
       "    <tr>\n",
       "      <th>4015</th>\n",
       "      <td>2016/12/29</td>\n",
       "      <td>4.3</td>\n",
       "      <td>8</td>\n",
       "      <td>2</td>\n",
       "    </tr>\n",
       "    <tr>\n",
       "      <th>4016</th>\n",
       "      <td>2016/12/30</td>\n",
       "      <td>6.0</td>\n",
       "      <td>8</td>\n",
       "      <td>2</td>\n",
       "    </tr>\n",
       "    <tr>\n",
       "      <th>4017</th>\n",
       "      <td>2016/12/31</td>\n",
       "      <td>6.3</td>\n",
       "      <td>8</td>\n",
       "      <td>2</td>\n",
       "    </tr>\n",
       "  </tbody>\n",
       "</table>\n",
       "<p>4018 rows × 4 columns</p>\n",
       "</div>"
      ],
      "text/plain": [
       "             연월일    기온  품질  균질\n",
       "0       2006/1/1   3.6   8   1\n",
       "1       2006/1/2   4.0   8   1\n",
       "2       2006/1/3   3.7   8   1\n",
       "3       2006/1/4   4.0   8   1\n",
       "4       2006/1/5   3.6   8   1\n",
       "...          ...   ...  ..  ..\n",
       "4013  2016/12/27  11.1   8   2\n",
       "4014  2016/12/28   6.0   8   2\n",
       "4015  2016/12/29   4.3   8   2\n",
       "4016  2016/12/30   6.0   8   2\n",
       "4017  2016/12/31   6.3   8   2\n",
       "\n",
       "[4018 rows x 4 columns]"
      ]
     },
     "execution_count": 3,
     "metadata": {},
     "output_type": "execute_result"
    }
   ],
   "source": [
    "df"
   ]
  },
  {
   "cell_type": "code",
   "execution_count": 4,
   "metadata": {},
   "outputs": [
    {
     "name": "stdout",
     "output_type": "stream",
     "text": [
      "<class 'pandas.core.frame.DataFrame'>\n",
      "RangeIndex: 4018 entries, 0 to 4017\n",
      "Data columns (total 4 columns):\n",
      " #   Column  Non-Null Count  Dtype  \n",
      "---  ------  --------------  -----  \n",
      " 0   연월일     4018 non-null   object \n",
      " 1   기온      4018 non-null   float64\n",
      " 2   품질      4018 non-null   int64  \n",
      " 3   균질      4018 non-null   int64  \n",
      "dtypes: float64(1), int64(2), object(1)\n",
      "memory usage: 125.7+ KB\n"
     ]
    }
   ],
   "source": [
    "df.info()"
   ]
  },
  {
   "cell_type": "code",
   "execution_count": null,
   "metadata": {},
   "outputs": [],
   "source": []
  },
  {
   "cell_type": "code",
   "execution_count": 3,
   "metadata": {
    "colab": {},
    "colab_type": "code",
    "id": "y7g6kXrv0Yg6"
   },
   "outputs": [],
   "source": [
    "def split_seq(data, n_steps):\n",
    "    x, y = [], []\n",
    "    for i in range(len(data)):\n",
    "        if i > len(data) - n_steps - 1 : break\n",
    "        x.append(data[i:i+n_steps])\n",
    "        y.append(data[i+n_steps])\n",
    "    return np.array(x), np.array(y)"
   ]
  },
  {
   "cell_type": "code",
   "execution_count": 5,
   "metadata": {
    "colab": {
     "base_uri": "https://localhost:8080/",
     "height": 143
    },
    "colab_type": "code",
    "executionInfo": {
     "elapsed": 802,
     "status": "ok",
     "timestamp": 1573631413019,
     "user": {
      "displayName": "김화종",
      "photoUrl": "https://lh3.googleusercontent.com/a-/AAuE7mCOtXjyLykQ_8l9Pq2rL3r5y110ynjRS1eb1EzpcQ=s64",
      "userId": "17353049580175403985"
     },
     "user_tz": -540
    },
    "id": "WaH1Lw7mvE7Y",
    "outputId": "80383c6d-42be-4bca-d539-e201d7700888"
   },
   "outputs": [
    {
     "data": {
      "text/plain": [
       "[(array([1, 2, 3]), 4),\n",
       " (array([2, 3, 4]), 5),\n",
       " (array([3, 4, 5]), 6),\n",
       " (array([4, 5, 6]), 7),\n",
       " (array([5, 6, 7]), 8),\n",
       " (array([6, 7, 8]), 9),\n",
       " (array([7, 8, 9]), 10)]"
      ]
     },
     "execution_count": 5,
     "metadata": {},
     "output_type": "execute_result"
    }
   ],
   "source": [
    "data = [1,2,3,4,5,6,7,8,9,10]\n",
    "# data = [11,12,13,11,20,19,17,18,20,21]\n",
    "x_train,y_train = split_seq(data, 3)\n",
    "list(zip(x_train, y_train))"
   ]
  },
  {
   "cell_type": "code",
   "execution_count": 6,
   "metadata": {},
   "outputs": [
    {
     "data": {
      "text/html": [
       "<div>\n",
       "<style scoped>\n",
       "    .dataframe tbody tr th:only-of-type {\n",
       "        vertical-align: middle;\n",
       "    }\n",
       "\n",
       "    .dataframe tbody tr th {\n",
       "        vertical-align: top;\n",
       "    }\n",
       "\n",
       "    .dataframe thead th {\n",
       "        text-align: right;\n",
       "    }\n",
       "</style>\n",
       "<table border=\"1\" class=\"dataframe\">\n",
       "  <thead>\n",
       "    <tr style=\"text-align: right;\">\n",
       "      <th></th>\n",
       "      <th>0</th>\n",
       "      <th>1</th>\n",
       "      <th>2</th>\n",
       "      <th>y</th>\n",
       "    </tr>\n",
       "  </thead>\n",
       "  <tbody>\n",
       "    <tr>\n",
       "      <th>0</th>\n",
       "      <td>1</td>\n",
       "      <td>2</td>\n",
       "      <td>3</td>\n",
       "      <td>4</td>\n",
       "    </tr>\n",
       "    <tr>\n",
       "      <th>1</th>\n",
       "      <td>2</td>\n",
       "      <td>3</td>\n",
       "      <td>4</td>\n",
       "      <td>5</td>\n",
       "    </tr>\n",
       "    <tr>\n",
       "      <th>2</th>\n",
       "      <td>3</td>\n",
       "      <td>4</td>\n",
       "      <td>5</td>\n",
       "      <td>6</td>\n",
       "    </tr>\n",
       "    <tr>\n",
       "      <th>3</th>\n",
       "      <td>4</td>\n",
       "      <td>5</td>\n",
       "      <td>6</td>\n",
       "      <td>7</td>\n",
       "    </tr>\n",
       "    <tr>\n",
       "      <th>4</th>\n",
       "      <td>5</td>\n",
       "      <td>6</td>\n",
       "      <td>7</td>\n",
       "      <td>8</td>\n",
       "    </tr>\n",
       "    <tr>\n",
       "      <th>5</th>\n",
       "      <td>6</td>\n",
       "      <td>7</td>\n",
       "      <td>8</td>\n",
       "      <td>9</td>\n",
       "    </tr>\n",
       "    <tr>\n",
       "      <th>6</th>\n",
       "      <td>7</td>\n",
       "      <td>8</td>\n",
       "      <td>9</td>\n",
       "      <td>10</td>\n",
       "    </tr>\n",
       "  </tbody>\n",
       "</table>\n",
       "</div>"
      ],
      "text/plain": [
       "   0  1  2   y\n",
       "0  1  2  3   4\n",
       "1  2  3  4   5\n",
       "2  3  4  5   6\n",
       "3  4  5  6   7\n",
       "4  5  6  7   8\n",
       "5  6  7  8   9\n",
       "6  7  8  9  10"
      ]
     },
     "execution_count": 6,
     "metadata": {},
     "output_type": "execute_result"
    }
   ],
   "source": [
    "X = pd.DataFrame(x_train); X\n",
    "X['y'] = y_train ; X"
   ]
  },
  {
   "cell_type": "code",
   "execution_count": 7,
   "metadata": {},
   "outputs": [
    {
     "data": {
      "text/plain": [
       "pandas.core.series.Series"
      ]
     },
     "execution_count": 7,
     "metadata": {},
     "output_type": "execute_result"
    }
   ],
   "source": [
    "type(df[\"기온\"])"
   ]
  },
  {
   "cell_type": "code",
   "execution_count": 21,
   "metadata": {},
   "outputs": [
    {
     "data": {
      "text/plain": [
       "array([3.6, 4. , 3.7, ..., 4.3, 6. , 6.3])"
      ]
     },
     "execution_count": 21,
     "metadata": {},
     "output_type": "execute_result"
    }
   ],
   "source": [
    "df.기온.values"
   ]
  },
  {
   "cell_type": "code",
   "execution_count": 8,
   "metadata": {},
   "outputs": [
    {
     "data": {
      "text/plain": [
       "(4018, 3013, 3013, 1005)"
      ]
     },
     "execution_count": 8,
     "metadata": {},
     "output_type": "execute_result"
    }
   ],
   "source": [
    "y = df[\"기온\"].values # train_test_split 사용하면 안됨 !!\n",
    "ratio = 0.75\n",
    "cut = np.int(len(y)*ratio)\n",
    "train = y[:cut]\n",
    "test = y[cut:]\n",
    "len(y), cut, len(train), len(test)"
   ]
  },
  {
   "cell_type": "code",
   "execution_count": 24,
   "metadata": {},
   "outputs": [
    {
     "data": {
      "text/plain": [
       "array([3.6, 4. , 3.7, 4. , 3.6, 2.1, 2.8, 4.2, 3.7, 4.3])"
      ]
     },
     "execution_count": 24,
     "metadata": {},
     "output_type": "execute_result"
    }
   ],
   "source": [
    "train[:10]"
   ]
  },
  {
   "cell_type": "markdown",
   "metadata": {},
   "source": [
    "# 선형 예측"
   ]
  },
  {
   "cell_type": "code",
   "execution_count": 9,
   "metadata": {
    "colab": {},
    "colab_type": "code",
    "id": "GlTyv8Ez0Yg7"
   },
   "outputs": [
    {
     "name": "stdout",
     "output_type": "stream",
     "text": [
      "1 0.9279\n",
      "11 0.9361\n",
      "21 0.9371\n",
      "31 0.9378\n",
      "41 0.9387\n",
      "51 0.9386\n",
      "61 0.9384\n",
      "71 0.9394\n",
      "81 0.9388\n",
      "91 0.9387\n",
      "101 0.9383\n",
      "111 0.9376\n",
      "121 0.9365\n",
      "131 0.9356\n",
      "141 0.9346\n",
      "151 0.934\n",
      "161 0.9339\n",
      "171 0.9328\n",
      "181 0.9325\n",
      "191 0.9333\n",
      "201 0.9347\n",
      "211 0.9348\n",
      "221 0.9357\n",
      "231 0.9359\n",
      "241 0.9362\n",
      "251 0.9359\n",
      "261 0.9341\n",
      "271 0.9324\n",
      "281 0.9318\n",
      "291 0.9302\n",
      "301 0.9286\n",
      "311 0.9266\n",
      "321 0.9239\n",
      "331 0.9215\n",
      "341 0.9209\n",
      "351 0.9185\n",
      "361 0.9176\n"
     ]
    }
   ],
   "source": [
    "lr = LinearRegression()\n",
    "for i in range(1,365,10): \n",
    "    n_steps=i\n",
    "    x_train, y_train = split_seq(train, n_steps)\n",
    "    x_test, y_test = split_seq(test, n_steps)\n",
    "    lr.fit(x_train, y_train) \n",
    "    print(n_steps, lr.score(x_test, y_test).round(4)) # R2 점수"
   ]
  },
  {
   "cell_type": "markdown",
   "metadata": {},
   "source": [
    "## 최적값 선택"
   ]
  },
  {
   "cell_type": "code",
   "execution_count": 10,
   "metadata": {
    "colab": {
     "base_uri": "https://localhost:8080/",
     "height": 374
    },
    "colab_type": "code",
    "executionInfo": {
     "elapsed": 1439,
     "status": "ok",
     "timestamp": 1573631500222,
     "user": {
      "displayName": "김화종",
      "photoUrl": "https://lh3.googleusercontent.com/a-/AAuE7mCOtXjyLykQ_8l9Pq2rL3r5y110ynjRS1eb1EzpcQ=s64",
      "userId": "17353049580175403985"
     },
     "user_tz": -540
    },
    "id": "qdvfq8AW0Yg_",
    "outputId": "7d221285-562c-4da5-e5b8-8686ed46c72b"
   },
   "outputs": [
    {
     "name": "stdout",
     "output_type": "stream",
     "text": [
      "10 0.9359804760059094\n"
     ]
    },
    {
     "data": {
      "image/png": "[encoded data removed]",
      "text/plain": [
       "<Figure size 720x432 with 1 Axes>"
      ]
     },
     "metadata": {
      "image/png": {
       "height": 357,
       "width": 601
      },
      "needs_background": "light"
     },
     "output_type": "display_data"
    }
   ],
   "source": [
    "lr = LinearRegression()\n",
    "\n",
    "# 최적값 사용 n_steps = 10, 윈도우 크기\n",
    "\n",
    "n_steps = 10\n",
    "x_train, y_train = split_seq(train, n_steps)\n",
    "x_test, y_test = split_seq(test, n_steps)\n",
    "lr.fit(x_train, y_train) \n",
    "y_pred = lr.predict(x_test)\n",
    "print(n_steps, lr.score(x_test, y_test)) # R2\n",
    "\n",
    "# 결과 그래프\n",
    "plt.figure(figsize=(10, 6))\n",
    "plt.plot(y_test[:200], c='r')\n",
    "plt.plot(y_pred[:200], c='b')\n",
    "plt.show()"
   ]
  },
  {
   "cell_type": "code",
   "execution_count": 32,
   "metadata": {
    "colab": {
     "base_uri": "https://localhost:8080/",
     "height": 71
    },
    "colab_type": "code",
    "executionInfo": {
     "elapsed": 870,
     "status": "ok",
     "timestamp": 1573631519959,
     "user": {
      "displayName": "김화종",
      "photoUrl": "https://lh3.googleusercontent.com/a-/AAuE7mCOtXjyLykQ_8l9Pq2rL3r5y110ynjRS1eb1EzpcQ=s64",
      "userId": "17353049580175403985"
     },
     "user_tz": -540
    },
    "id": "snIhFzzV0YhB",
    "outputId": "95980921-5415-4112-a9ee-e3f1e3af70c7",
    "scrolled": true
   },
   "outputs": [
    {
     "name": "stdout",
     "output_type": "stream",
     "text": [
      "MAE= 1.497897124679352\n",
      "max= 8.613561682545189\n",
      "R2= 0.9359804760059094\n"
     ]
    }
   ],
   "source": [
    "error = np.abs(y_pred - y_test)\n",
    "print(\"MAE=\", error.mean())\n",
    "print(\"max=\", max(error))\n",
    "print(\"R2=\",lr.score(x_test, y_test)) # R2"
   ]
  },
  {
   "cell_type": "code",
   "execution_count": 36,
   "metadata": {},
   "outputs": [
    {
     "data": {
      "text/plain": [
       "<matplotlib.collections.PathCollection at 0x1a21109710>"
      ]
     },
     "execution_count": 36,
     "metadata": {},
     "output_type": "execute_result"
    },
    {
     "data": {
      "image/png": "[encoded data removed]",
      "text/plain": [
       "<Figure size 432x288 with 1 Axes>"
      ]
     },
     "metadata": {
      "image/png": {
       "height": 248,
       "width": 370
      },
      "needs_background": "light"
     },
     "output_type": "display_data"
    }
   ],
   "source": [
    "plt.scatter(y_test, error, s=5)\n",
    "rmse, mae(mape), rmsle(log)\n",
    "봄:\n",
    "가을:  월별\n",
    "    최종 결정: 조합으로, voting(h/s), stacking"
   ]
  },
  {
   "cell_type": "markdown",
   "metadata": {},
   "source": [
    "# 나이브 모델"
   ]
  },
  {
   "cell_type": "code",
   "execution_count": 11,
   "metadata": {},
   "outputs": [],
   "source": [
    "def naive_model(x_seq):\n",
    "    return np.array(x_seq).mean(axis=1)\n",
    "#     return x_seq[-1] # persistent 모델"
   ]
  },
  {
   "cell_type": "code",
   "execution_count": 48,
   "metadata": {},
   "outputs": [
    {
     "data": {
      "text/plain": [
       "[1, 2, 3, 4, 5, 6, 7, 8, 9, 10]"
      ]
     },
     "execution_count": 48,
     "metadata": {},
     "output_type": "execute_result"
    }
   ],
   "source": [
    "data"
   ]
  },
  {
   "cell_type": "code",
   "execution_count": 49,
   "metadata": {},
   "outputs": [
    {
     "data": {
      "text/plain": [
       "10"
      ]
     },
     "execution_count": 49,
     "metadata": {},
     "output_type": "execute_result"
    }
   ],
   "source": [
    "naive_model(data)"
   ]
  },
  {
   "cell_type": "code",
   "execution_count": null,
   "metadata": {},
   "outputs": [],
   "source": []
  },
  {
   "cell_type": "code",
   "execution_count": 12,
   "metadata": {},
   "outputs": [
    {
     "name": "stdout",
     "output_type": "stream",
     "text": [
      "0.9266048196593487\n"
     ]
    }
   ],
   "source": [
    "x_test, y_test = split_seq(test, 1) # persistent 모델\n",
    "# m.fit(x_train, y_train)\n",
    "y_pred = naive_model(x_test)\n",
    "print(r2_score(y_test, y_pred))"
   ]
  },
  {
   "cell_type": "code",
   "execution_count": 54,
   "metadata": {},
   "outputs": [
    {
     "name": "stdout",
     "output_type": "stream",
     "text": [
      "MAE= 1.5845617529880478\n",
      "max= 10.4\n"
     ]
    }
   ],
   "source": [
    "error = np.abs(y_pred  - y_test)\n",
    "print(\"MAE=\", error.mean())\n",
    "print(\"max=\", max(error))\n",
    "# print(\"R2=\",lr.score(x_test, y_test)) # R2"
   ]
  },
  {
   "cell_type": "markdown",
   "metadata": {},
   "source": [
    "## naive  모델에서 최적의 윈도우 크기\n",
    "- 과거의 평균치로 예측하는 경우를 가정\n",
    "- Baseline 모델, 새로운 모델은 이것보다는 좋아야 하는 기준"
   ]
  },
  {
   "cell_type": "code",
   "execution_count": 55,
   "metadata": {},
   "outputs": [
    {
     "name": "stdout",
     "output_type": "stream",
     "text": [
      "1 0.9266\n",
      "2 0.9166\n",
      "3 0.9113\n",
      "4 0.9074\n",
      "5 0.9037\n",
      "6 0.901\n",
      "7 0.8991\n",
      "8 0.8982\n",
      "9 0.8971\n",
      "10 0.896\n",
      "11 0.8948\n",
      "12 0.8932\n",
      "13 0.8913\n",
      "14 0.8897\n",
      "15 0.888\n",
      "16 0.8861\n",
      "17 0.8841\n",
      "18 0.8812\n",
      "19 0.8778\n"
     ]
    }
   ],
   "source": [
    "for i in range(1,20): \n",
    "    n_steps=i\n",
    "#   x_train, y_train = split_seq(train, n_steps)\n",
    "    x_test, y_test = split_seq(test, n_steps)\n",
    "    y_pred = naive_model(x_test)\n",
    "    r2_score(y_test, y_pred)\n",
    "    print(n_steps, r2_score(y_test, y_pred).round(4))"
   ]
  },
  {
   "cell_type": "code",
   "execution_count": null,
   "metadata": {},
   "outputs": [],
   "source": []
  },
  {
   "cell_type": "markdown",
   "metadata": {
    "colab_type": "text",
    "id": "sD5FmVRp0YhK"
   },
   "source": [
    "# Prophet 사용"
   ]
  },
  {
   "cell_type": "code",
   "execution_count": 64,
   "metadata": {
    "collapsed": true
   },
   "outputs": [
    {
     "name": "stdout",
     "output_type": "stream",
     "text": [
      "Requirement already satisfied: fbprophet in /Users/hwa-kim/opt/anaconda3/lib/python3.7/site-packages (0.6)\n",
      "Requirement already satisfied: Cython>=0.22 in /Users/hwa-kim/opt/anaconda3/lib/python3.7/site-packages (from fbprophet) (0.29.15)\n",
      "Requirement already satisfied: cmdstanpy==0.4 in /Users/hwa-kim/opt/anaconda3/lib/python3.7/site-packages (from fbprophet) (0.4.0)\n",
      "Requirement already satisfied: pystan>=2.14 in /Users/hwa-kim/opt/anaconda3/lib/python3.7/site-packages (from fbprophet) (2.19.1.1)\n",
      "Requirement already satisfied: numpy>=1.10.0 in /Users/hwa-kim/opt/anaconda3/lib/python3.7/site-packages (from fbprophet) (1.18.1)\n",
      "Requirement already satisfied: pandas>=0.23.4 in /Users/hwa-kim/opt/anaconda3/lib/python3.7/site-packages (from fbprophet) (1.0.1)\n",
      "Requirement already satisfied: matplotlib>=2.0.0 in /Users/hwa-kim/opt/anaconda3/lib/python3.7/site-packages (from fbprophet) (3.1.3)\n",
      "Requirement already satisfied: LunarCalendar>=0.0.9 in /Users/hwa-kim/opt/anaconda3/lib/python3.7/site-packages (from fbprophet) (0.0.9)\n",
      "Requirement already satisfied: convertdate>=2.1.2 in /Users/hwa-kim/opt/anaconda3/lib/python3.7/site-packages (from fbprophet) (2.2.1)\n",
      "Requirement already satisfied: holidays>=0.9.5 in /Users/hwa-kim/opt/anaconda3/lib/python3.7/site-packages (from fbprophet) (0.10.3)\n",
      "Requirement already satisfied: setuptools-git>=1.2 in /Users/hwa-kim/opt/anaconda3/lib/python3.7/site-packages (from fbprophet) (1.2)\n",
      "Requirement already satisfied: python-dateutil>=2.8.0 in /Users/hwa-kim/opt/anaconda3/lib/python3.7/site-packages (from fbprophet) (2.8.1)\n",
      "Requirement already satisfied: pytz>=2017.2 in /Users/hwa-kim/opt/anaconda3/lib/python3.7/site-packages (from pandas>=0.23.4->fbprophet) (2019.3)\n",
      "Requirement already satisfied: cycler>=0.10 in /Users/hwa-kim/opt/anaconda3/lib/python3.7/site-packages (from matplotlib>=2.0.0->fbprophet) (0.10.0)\n",
      "Requirement already satisfied: kiwisolver>=1.0.1 in /Users/hwa-kim/opt/anaconda3/lib/python3.7/site-packages (from matplotlib>=2.0.0->fbprophet) (1.1.0)\n",
      "Requirement already satisfied: pyparsing!=2.0.4,!=2.1.2,!=2.1.6,>=2.0.1 in /Users/hwa-kim/opt/anaconda3/lib/python3.7/site-packages (from matplotlib>=2.0.0->fbprophet) (2.4.6)\n",
      "Requirement already satisfied: ephem>=3.7.5.3 in /Users/hwa-kim/opt/anaconda3/lib/python3.7/site-packages (from LunarCalendar>=0.0.9->fbprophet) (3.7.7.1)\n",
      "Requirement already satisfied: pymeeus<=1,>=0.3.6 in /Users/hwa-kim/opt/anaconda3/lib/python3.7/site-packages (from convertdate>=2.1.2->fbprophet) (0.3.7)\n",
      "Requirement already satisfied: six in /Users/hwa-kim/opt/anaconda3/lib/python3.7/site-packages (from holidays>=0.9.5->fbprophet) (1.14.0)\n",
      "Requirement already satisfied: korean-lunar-calendar in /Users/hwa-kim/opt/anaconda3/lib/python3.7/site-packages (from holidays>=0.9.5->fbprophet) (0.2.1)\n",
      "Requirement already satisfied: setuptools in /Users/hwa-kim/opt/anaconda3/lib/python3.7/site-packages (from kiwisolver>=1.0.1->matplotlib>=2.0.0->fbprophet) (46.0.0.post20200309)\n"
     ]
    }
   ],
   "source": [
    "!pip install fbprophet"
   ]
  },
  {
   "cell_type": "code",
   "execution_count": 13,
   "metadata": {
    "colab": {},
    "colab_type": "code",
    "id": "IBrrk9t9t0RR",
    "outputId": "31ed7b9d-b92c-4d3d-d73c-c189148be121"
   },
   "outputs": [],
   "source": [
    "from fbprophet import Prophet"
   ]
  },
  {
   "cell_type": "code",
   "execution_count": 27,
   "metadata": {},
   "outputs": [
    {
     "data": {
      "text/html": [
       "<div>\n",
       "<style scoped>\n",
       "    .dataframe tbody tr th:only-of-type {\n",
       "        vertical-align: middle;\n",
       "    }\n",
       "\n",
       "    .dataframe tbody tr th {\n",
       "        vertical-align: top;\n",
       "    }\n",
       "\n",
       "    .dataframe thead th {\n",
       "        text-align: right;\n",
       "    }\n",
       "</style>\n",
       "<table border=\"1\" class=\"dataframe\">\n",
       "  <thead>\n",
       "    <tr style=\"text-align: right;\">\n",
       "      <th></th>\n",
       "      <th>연월일</th>\n",
       "      <th>기온</th>\n",
       "      <th>품질</th>\n",
       "      <th>균질</th>\n",
       "    </tr>\n",
       "  </thead>\n",
       "  <tbody>\n",
       "    <tr>\n",
       "      <th>0</th>\n",
       "      <td>2006/1/1</td>\n",
       "      <td>3.6</td>\n",
       "      <td>8</td>\n",
       "      <td>1</td>\n",
       "    </tr>\n",
       "    <tr>\n",
       "      <th>1</th>\n",
       "      <td>2006/1/2</td>\n",
       "      <td>4.0</td>\n",
       "      <td>8</td>\n",
       "      <td>1</td>\n",
       "    </tr>\n",
       "    <tr>\n",
       "      <th>2</th>\n",
       "      <td>2006/1/3</td>\n",
       "      <td>3.7</td>\n",
       "      <td>8</td>\n",
       "      <td>1</td>\n",
       "    </tr>\n",
       "    <tr>\n",
       "      <th>3</th>\n",
       "      <td>2006/1/4</td>\n",
       "      <td>4.0</td>\n",
       "      <td>8</td>\n",
       "      <td>1</td>\n",
       "    </tr>\n",
       "    <tr>\n",
       "      <th>4</th>\n",
       "      <td>2006/1/5</td>\n",
       "      <td>3.6</td>\n",
       "      <td>8</td>\n",
       "      <td>1</td>\n",
       "    </tr>\n",
       "    <tr>\n",
       "      <th>...</th>\n",
       "      <td>...</td>\n",
       "      <td>...</td>\n",
       "      <td>...</td>\n",
       "      <td>...</td>\n",
       "    </tr>\n",
       "    <tr>\n",
       "      <th>4013</th>\n",
       "      <td>2016/12/27</td>\n",
       "      <td>11.1</td>\n",
       "      <td>8</td>\n",
       "      <td>2</td>\n",
       "    </tr>\n",
       "    <tr>\n",
       "      <th>4014</th>\n",
       "      <td>2016/12/28</td>\n",
       "      <td>6.0</td>\n",
       "      <td>8</td>\n",
       "      <td>2</td>\n",
       "    </tr>\n",
       "    <tr>\n",
       "      <th>4015</th>\n",
       "      <td>2016/12/29</td>\n",
       "      <td>4.3</td>\n",
       "      <td>8</td>\n",
       "      <td>2</td>\n",
       "    </tr>\n",
       "    <tr>\n",
       "      <th>4016</th>\n",
       "      <td>2016/12/30</td>\n",
       "      <td>6.0</td>\n",
       "      <td>8</td>\n",
       "      <td>2</td>\n",
       "    </tr>\n",
       "    <tr>\n",
       "      <th>4017</th>\n",
       "      <td>2016/12/31</td>\n",
       "      <td>6.3</td>\n",
       "      <td>8</td>\n",
       "      <td>2</td>\n",
       "    </tr>\n",
       "  </tbody>\n",
       "</table>\n",
       "<p>4018 rows × 4 columns</p>\n",
       "</div>"
      ],
      "text/plain": [
       "             연월일    기온  품질  균질\n",
       "0       2006/1/1   3.6   8   1\n",
       "1       2006/1/2   4.0   8   1\n",
       "2       2006/1/3   3.7   8   1\n",
       "3       2006/1/4   4.0   8   1\n",
       "4       2006/1/5   3.6   8   1\n",
       "...          ...   ...  ..  ..\n",
       "4013  2016/12/27  11.1   8   2\n",
       "4014  2016/12/28   6.0   8   2\n",
       "4015  2016/12/29   4.3   8   2\n",
       "4016  2016/12/30   6.0   8   2\n",
       "4017  2016/12/31   6.3   8   2\n",
       "\n",
       "[4018 rows x 4 columns]"
      ]
     },
     "execution_count": 27,
     "metadata": {},
     "output_type": "execute_result"
    }
   ],
   "source": [
    "df"
   ]
  },
  {
   "cell_type": "code",
   "execution_count": 14,
   "metadata": {},
   "outputs": [],
   "source": [
    "df = df.drop([\"품질\", \"균질\"], axis=1)"
   ]
  },
  {
   "cell_type": "code",
   "execution_count": 15,
   "metadata": {
    "colab": {},
    "colab_type": "code",
    "id": "dR5pwmzot0RT"
   },
   "outputs": [
    {
     "data": {
      "text/html": [
       "<div>\n",
       "<style scoped>\n",
       "    .dataframe tbody tr th:only-of-type {\n",
       "        vertical-align: middle;\n",
       "    }\n",
       "\n",
       "    .dataframe tbody tr th {\n",
       "        vertical-align: top;\n",
       "    }\n",
       "\n",
       "    .dataframe thead th {\n",
       "        text-align: right;\n",
       "    }\n",
       "</style>\n",
       "<table border=\"1\" class=\"dataframe\">\n",
       "  <thead>\n",
       "    <tr style=\"text-align: right;\">\n",
       "      <th></th>\n",
       "      <th>ds</th>\n",
       "      <th>y</th>\n",
       "    </tr>\n",
       "  </thead>\n",
       "  <tbody>\n",
       "    <tr>\n",
       "      <th>0</th>\n",
       "      <td>2006/1/1</td>\n",
       "      <td>3.6</td>\n",
       "    </tr>\n",
       "    <tr>\n",
       "      <th>1</th>\n",
       "      <td>2006/1/2</td>\n",
       "      <td>4.0</td>\n",
       "    </tr>\n",
       "    <tr>\n",
       "      <th>2</th>\n",
       "      <td>2006/1/3</td>\n",
       "      <td>3.7</td>\n",
       "    </tr>\n",
       "    <tr>\n",
       "      <th>3</th>\n",
       "      <td>2006/1/4</td>\n",
       "      <td>4.0</td>\n",
       "    </tr>\n",
       "    <tr>\n",
       "      <th>4</th>\n",
       "      <td>2006/1/5</td>\n",
       "      <td>3.6</td>\n",
       "    </tr>\n",
       "    <tr>\n",
       "      <th>...</th>\n",
       "      <td>...</td>\n",
       "      <td>...</td>\n",
       "    </tr>\n",
       "    <tr>\n",
       "      <th>4013</th>\n",
       "      <td>2016/12/27</td>\n",
       "      <td>11.1</td>\n",
       "    </tr>\n",
       "    <tr>\n",
       "      <th>4014</th>\n",
       "      <td>2016/12/28</td>\n",
       "      <td>6.0</td>\n",
       "    </tr>\n",
       "    <tr>\n",
       "      <th>4015</th>\n",
       "      <td>2016/12/29</td>\n",
       "      <td>4.3</td>\n",
       "    </tr>\n",
       "    <tr>\n",
       "      <th>4016</th>\n",
       "      <td>2016/12/30</td>\n",
       "      <td>6.0</td>\n",
       "    </tr>\n",
       "    <tr>\n",
       "      <th>4017</th>\n",
       "      <td>2016/12/31</td>\n",
       "      <td>6.3</td>\n",
       "    </tr>\n",
       "  </tbody>\n",
       "</table>\n",
       "<p>4018 rows × 2 columns</p>\n",
       "</div>"
      ],
      "text/plain": [
       "              ds     y\n",
       "0       2006/1/1   3.6\n",
       "1       2006/1/2   4.0\n",
       "2       2006/1/3   3.7\n",
       "3       2006/1/4   4.0\n",
       "4       2006/1/5   3.6\n",
       "...          ...   ...\n",
       "4013  2016/12/27  11.1\n",
       "4014  2016/12/28   6.0\n",
       "4015  2016/12/29   4.3\n",
       "4016  2016/12/30   6.0\n",
       "4017  2016/12/31   6.3\n",
       "\n",
       "[4018 rows x 2 columns]"
      ]
     },
     "execution_count": 15,
     "metadata": {},
     "output_type": "execute_result"
    }
   ],
   "source": [
    "df.columns = ['ds', 'y']\n",
    "df"
   ]
  },
  {
   "cell_type": "code",
   "execution_count": 59,
   "metadata": {},
   "outputs": [
    {
     "name": "stdout",
     "output_type": "stream",
     "text": [
      "<class 'pandas.core.frame.DataFrame'>\n",
      "RangeIndex: 4018 entries, 0 to 4017\n",
      "Data columns (total 2 columns):\n",
      " #   Column  Non-Null Count  Dtype  \n",
      "---  ------  --------------  -----  \n",
      " 0   ds      4018 non-null   object \n",
      " 1   y       4018 non-null   float64\n",
      "dtypes: float64(1), object(1)\n",
      "memory usage: 62.9+ KB\n"
     ]
    }
   ],
   "source": [
    "df.info()"
   ]
  },
  {
   "cell_type": "code",
   "execution_count": 16,
   "metadata": {},
   "outputs": [],
   "source": [
    "df.ds = df.ds.apply(pd.to_datetime)"
   ]
  },
  {
   "cell_type": "code",
   "execution_count": 61,
   "metadata": {},
   "outputs": [
    {
     "data": {
      "text/plain": [
       "0      2006-01-01\n",
       "1      2006-01-02\n",
       "2      2006-01-03\n",
       "3      2006-01-04\n",
       "4      2006-01-05\n",
       "          ...    \n",
       "4013   2016-12-27\n",
       "4014   2016-12-28\n",
       "4015   2016-12-29\n",
       "4016   2016-12-30\n",
       "4017   2016-12-31\n",
       "Name: ds, Length: 4018, dtype: datetime64[ns]"
      ]
     },
     "execution_count": 61,
     "metadata": {},
     "output_type": "execute_result"
    }
   ],
   "source": [
    "df.ds"
   ]
  },
  {
   "cell_type": "code",
   "execution_count": 63,
   "metadata": {},
   "outputs": [
    {
     "name": "stdout",
     "output_type": "stream",
     "text": [
      "<class 'pandas.core.frame.DataFrame'>\n",
      "RangeIndex: 4018 entries, 0 to 4017\n",
      "Data columns (total 2 columns):\n",
      " #   Column  Non-Null Count  Dtype         \n",
      "---  ------  --------------  -----         \n",
      " 0   ds      4018 non-null   datetime64[ns]\n",
      " 1   y       4018 non-null   float64       \n",
      "dtypes: datetime64[ns](1), float64(1)\n",
      "memory usage: 62.9 KB\n"
     ]
    }
   ],
   "source": [
    "df.info()"
   ]
  },
  {
   "cell_type": "code",
   "execution_count": 17,
   "metadata": {},
   "outputs": [
    {
     "data": {
      "text/plain": [
       "((3500, 2), (518, 2))"
      ]
     },
     "execution_count": 17,
     "metadata": {},
     "output_type": "execute_result"
    }
   ],
   "source": [
    "train = df[:3500]\n",
    "test = df[3500:]\n",
    "train.shape, test.shape"
   ]
  },
  {
   "cell_type": "code",
   "execution_count": 18,
   "metadata": {},
   "outputs": [
    {
     "name": "stderr",
     "output_type": "stream",
     "text": [
      "INFO:numexpr.utils:NumExpr defaulting to 8 threads.\n",
      "INFO:fbprophet:Disabling daily seasonality. Run prophet with daily_seasonality=True to override this.\n"
     ]
    },
    {
     "data": {
      "text/plain": [
       "<fbprophet.forecaster.Prophet at 0x7fb0051bfa90>"
      ]
     },
     "execution_count": 18,
     "metadata": {},
     "output_type": "execute_result"
    }
   ],
   "source": [
    "model = Prophet()\n",
    "model.fit(train)"
   ]
  },
  {
   "cell_type": "code",
   "execution_count": 19,
   "metadata": {},
   "outputs": [
    {
     "data": {
      "text/html": [
       "<div>\n",
       "<style scoped>\n",
       "    .dataframe tbody tr th:only-of-type {\n",
       "        vertical-align: middle;\n",
       "    }\n",
       "\n",
       "    .dataframe tbody tr th {\n",
       "        vertical-align: top;\n",
       "    }\n",
       "\n",
       "    .dataframe thead th {\n",
       "        text-align: right;\n",
       "    }\n",
       "</style>\n",
       "<table border=\"1\" class=\"dataframe\">\n",
       "  <thead>\n",
       "    <tr style=\"text-align: right;\">\n",
       "      <th></th>\n",
       "      <th>ds</th>\n",
       "    </tr>\n",
       "  </thead>\n",
       "  <tbody>\n",
       "    <tr>\n",
       "      <th>3500</th>\n",
       "      <td>2015-08-02</td>\n",
       "    </tr>\n",
       "    <tr>\n",
       "      <th>3501</th>\n",
       "      <td>2015-08-03</td>\n",
       "    </tr>\n",
       "    <tr>\n",
       "      <th>3502</th>\n",
       "      <td>2015-08-04</td>\n",
       "    </tr>\n",
       "    <tr>\n",
       "      <th>3503</th>\n",
       "      <td>2015-08-05</td>\n",
       "    </tr>\n",
       "    <tr>\n",
       "      <th>3504</th>\n",
       "      <td>2015-08-06</td>\n",
       "    </tr>\n",
       "    <tr>\n",
       "      <th>...</th>\n",
       "      <td>...</td>\n",
       "    </tr>\n",
       "    <tr>\n",
       "      <th>4013</th>\n",
       "      <td>2016-12-27</td>\n",
       "    </tr>\n",
       "    <tr>\n",
       "      <th>4014</th>\n",
       "      <td>2016-12-28</td>\n",
       "    </tr>\n",
       "    <tr>\n",
       "      <th>4015</th>\n",
       "      <td>2016-12-29</td>\n",
       "    </tr>\n",
       "    <tr>\n",
       "      <th>4016</th>\n",
       "      <td>2016-12-30</td>\n",
       "    </tr>\n",
       "    <tr>\n",
       "      <th>4017</th>\n",
       "      <td>2016-12-31</td>\n",
       "    </tr>\n",
       "  </tbody>\n",
       "</table>\n",
       "<p>518 rows × 1 columns</p>\n",
       "</div>"
      ],
      "text/plain": [
       "             ds\n",
       "3500 2015-08-02\n",
       "3501 2015-08-03\n",
       "3502 2015-08-04\n",
       "3503 2015-08-05\n",
       "3504 2015-08-06\n",
       "...         ...\n",
       "4013 2016-12-27\n",
       "4014 2016-12-28\n",
       "4015 2016-12-29\n",
       "4016 2016-12-30\n",
       "4017 2016-12-31\n",
       "\n",
       "[518 rows x 1 columns]"
      ]
     },
     "execution_count": 19,
     "metadata": {},
     "output_type": "execute_result"
    }
   ],
   "source": [
    "future_test = test.drop('y',axis=1);future_test"
   ]
  },
  {
   "cell_type": "code",
   "execution_count": 20,
   "metadata": {},
   "outputs": [],
   "source": [
    "forecast = model.predict(future_test)"
   ]
  },
  {
   "cell_type": "code",
   "execution_count": 21,
   "metadata": {
    "collapsed": true
   },
   "outputs": [
    {
     "data": {
      "text/html": [
       "<div>\n",
       "<style scoped>\n",
       "    .dataframe tbody tr th:only-of-type {\n",
       "        vertical-align: middle;\n",
       "    }\n",
       "\n",
       "    .dataframe tbody tr th {\n",
       "        vertical-align: top;\n",
       "    }\n",
       "\n",
       "    .dataframe thead th {\n",
       "        text-align: right;\n",
       "    }\n",
       "</style>\n",
       "<table border=\"1\" class=\"dataframe\">\n",
       "  <thead>\n",
       "    <tr style=\"text-align: right;\">\n",
       "      <th></th>\n",
       "      <th>ds</th>\n",
       "      <th>trend</th>\n",
       "      <th>yhat_lower</th>\n",
       "      <th>yhat_upper</th>\n",
       "      <th>trend_lower</th>\n",
       "      <th>trend_upper</th>\n",
       "      <th>additive_terms</th>\n",
       "      <th>additive_terms_lower</th>\n",
       "      <th>additive_terms_upper</th>\n",
       "      <th>weekly</th>\n",
       "      <th>weekly_lower</th>\n",
       "      <th>weekly_upper</th>\n",
       "      <th>yearly</th>\n",
       "      <th>yearly_lower</th>\n",
       "      <th>yearly_upper</th>\n",
       "      <th>multiplicative_terms</th>\n",
       "      <th>multiplicative_terms_lower</th>\n",
       "      <th>multiplicative_terms_upper</th>\n",
       "      <th>yhat</th>\n",
       "    </tr>\n",
       "  </thead>\n",
       "  <tbody>\n",
       "    <tr>\n",
       "      <th>0</th>\n",
       "      <td>2015-08-02</td>\n",
       "      <td>16.561539</td>\n",
       "      <td>25.068807</td>\n",
       "      <td>31.261649</td>\n",
       "      <td>16.561539</td>\n",
       "      <td>16.561539</td>\n",
       "      <td>11.497560</td>\n",
       "      <td>11.497560</td>\n",
       "      <td>11.497560</td>\n",
       "      <td>-0.108869</td>\n",
       "      <td>-0.108869</td>\n",
       "      <td>-0.108869</td>\n",
       "      <td>11.606428</td>\n",
       "      <td>11.606428</td>\n",
       "      <td>11.606428</td>\n",
       "      <td>0.0</td>\n",
       "      <td>0.0</td>\n",
       "      <td>0.0</td>\n",
       "      <td>28.059099</td>\n",
       "    </tr>\n",
       "    <tr>\n",
       "      <th>1</th>\n",
       "      <td>2015-08-03</td>\n",
       "      <td>16.560982</td>\n",
       "      <td>25.025727</td>\n",
       "      <td>31.196092</td>\n",
       "      <td>16.560982</td>\n",
       "      <td>16.560982</td>\n",
       "      <td>11.620111</td>\n",
       "      <td>11.620111</td>\n",
       "      <td>11.620111</td>\n",
       "      <td>-0.059070</td>\n",
       "      <td>-0.059070</td>\n",
       "      <td>-0.059070</td>\n",
       "      <td>11.679181</td>\n",
       "      <td>11.679181</td>\n",
       "      <td>11.679181</td>\n",
       "      <td>0.0</td>\n",
       "      <td>0.0</td>\n",
       "      <td>0.0</td>\n",
       "      <td>28.181093</td>\n",
       "    </tr>\n",
       "    <tr>\n",
       "      <th>2</th>\n",
       "      <td>2015-08-04</td>\n",
       "      <td>16.560424</td>\n",
       "      <td>25.516128</td>\n",
       "      <td>31.365782</td>\n",
       "      <td>16.560424</td>\n",
       "      <td>16.560424</td>\n",
       "      <td>11.800380</td>\n",
       "      <td>11.800380</td>\n",
       "      <td>11.800380</td>\n",
       "      <td>0.057071</td>\n",
       "      <td>0.057071</td>\n",
       "      <td>0.057071</td>\n",
       "      <td>11.743308</td>\n",
       "      <td>11.743308</td>\n",
       "      <td>11.743308</td>\n",
       "      <td>0.0</td>\n",
       "      <td>0.0</td>\n",
       "      <td>0.0</td>\n",
       "      <td>28.360803</td>\n",
       "    </tr>\n",
       "    <tr>\n",
       "      <th>3</th>\n",
       "      <td>2015-08-05</td>\n",
       "      <td>16.559866</td>\n",
       "      <td>25.217421</td>\n",
       "      <td>31.453019</td>\n",
       "      <td>16.559866</td>\n",
       "      <td>16.559866</td>\n",
       "      <td>11.826961</td>\n",
       "      <td>11.826961</td>\n",
       "      <td>11.826961</td>\n",
       "      <td>0.028758</td>\n",
       "      <td>0.028758</td>\n",
       "      <td>0.028758</td>\n",
       "      <td>11.798203</td>\n",
       "      <td>11.798203</td>\n",
       "      <td>11.798203</td>\n",
       "      <td>0.0</td>\n",
       "      <td>0.0</td>\n",
       "      <td>0.0</td>\n",
       "      <td>28.386827</td>\n",
       "    </tr>\n",
       "    <tr>\n",
       "      <th>4</th>\n",
       "      <td>2015-08-06</td>\n",
       "      <td>16.559309</td>\n",
       "      <td>25.381427</td>\n",
       "      <td>31.602913</td>\n",
       "      <td>16.559309</td>\n",
       "      <td>16.559309</td>\n",
       "      <td>11.862754</td>\n",
       "      <td>11.862754</td>\n",
       "      <td>11.862754</td>\n",
       "      <td>0.019394</td>\n",
       "      <td>0.019394</td>\n",
       "      <td>0.019394</td>\n",
       "      <td>11.843360</td>\n",
       "      <td>11.843360</td>\n",
       "      <td>11.843360</td>\n",
       "      <td>0.0</td>\n",
       "      <td>0.0</td>\n",
       "      <td>0.0</td>\n",
       "      <td>28.422063</td>\n",
       "    </tr>\n",
       "    <tr>\n",
       "      <th>...</th>\n",
       "      <td>...</td>\n",
       "      <td>...</td>\n",
       "      <td>...</td>\n",
       "      <td>...</td>\n",
       "      <td>...</td>\n",
       "      <td>...</td>\n",
       "      <td>...</td>\n",
       "      <td>...</td>\n",
       "      <td>...</td>\n",
       "      <td>...</td>\n",
       "      <td>...</td>\n",
       "      <td>...</td>\n",
       "      <td>...</td>\n",
       "      <td>...</td>\n",
       "      <td>...</td>\n",
       "      <td>...</td>\n",
       "      <td>...</td>\n",
       "      <td>...</td>\n",
       "      <td>...</td>\n",
       "    </tr>\n",
       "    <tr>\n",
       "      <th>513</th>\n",
       "      <td>2016-12-27</td>\n",
       "      <td>16.275466</td>\n",
       "      <td>3.428876</td>\n",
       "      <td>9.667042</td>\n",
       "      <td>16.112087</td>\n",
       "      <td>16.442258</td>\n",
       "      <td>-9.730293</td>\n",
       "      <td>-9.730293</td>\n",
       "      <td>-9.730293</td>\n",
       "      <td>0.057071</td>\n",
       "      <td>0.057071</td>\n",
       "      <td>0.057071</td>\n",
       "      <td>-9.787365</td>\n",
       "      <td>-9.787365</td>\n",
       "      <td>-9.787365</td>\n",
       "      <td>0.0</td>\n",
       "      <td>0.0</td>\n",
       "      <td>0.0</td>\n",
       "      <td>6.545173</td>\n",
       "    </tr>\n",
       "    <tr>\n",
       "      <th>514</th>\n",
       "      <td>2016-12-28</td>\n",
       "      <td>16.274909</td>\n",
       "      <td>3.457245</td>\n",
       "      <td>9.583131</td>\n",
       "      <td>16.110947</td>\n",
       "      <td>16.442099</td>\n",
       "      <td>-9.873599</td>\n",
       "      <td>-9.873599</td>\n",
       "      <td>-9.873599</td>\n",
       "      <td>0.028758</td>\n",
       "      <td>0.028758</td>\n",
       "      <td>0.028758</td>\n",
       "      <td>-9.902357</td>\n",
       "      <td>-9.902357</td>\n",
       "      <td>-9.902357</td>\n",
       "      <td>0.0</td>\n",
       "      <td>0.0</td>\n",
       "      <td>0.0</td>\n",
       "      <td>6.401309</td>\n",
       "    </tr>\n",
       "    <tr>\n",
       "      <th>515</th>\n",
       "      <td>2016-12-29</td>\n",
       "      <td>16.274351</td>\n",
       "      <td>2.995537</td>\n",
       "      <td>9.459725</td>\n",
       "      <td>16.109967</td>\n",
       "      <td>16.441478</td>\n",
       "      <td>-9.992802</td>\n",
       "      <td>-9.992802</td>\n",
       "      <td>-9.992802</td>\n",
       "      <td>0.019394</td>\n",
       "      <td>0.019394</td>\n",
       "      <td>0.019394</td>\n",
       "      <td>-10.012196</td>\n",
       "      <td>-10.012196</td>\n",
       "      <td>-10.012196</td>\n",
       "      <td>0.0</td>\n",
       "      <td>0.0</td>\n",
       "      <td>0.0</td>\n",
       "      <td>6.281549</td>\n",
       "    </tr>\n",
       "    <tr>\n",
       "      <th>516</th>\n",
       "      <td>2016-12-30</td>\n",
       "      <td>16.273793</td>\n",
       "      <td>3.190398</td>\n",
       "      <td>9.398181</td>\n",
       "      <td>16.109015</td>\n",
       "      <td>16.440924</td>\n",
       "      <td>-10.031572</td>\n",
       "      <td>-10.031572</td>\n",
       "      <td>-10.031572</td>\n",
       "      <td>0.084984</td>\n",
       "      <td>0.084984</td>\n",
       "      <td>0.084984</td>\n",
       "      <td>-10.116555</td>\n",
       "      <td>-10.116555</td>\n",
       "      <td>-10.116555</td>\n",
       "      <td>0.0</td>\n",
       "      <td>0.0</td>\n",
       "      <td>0.0</td>\n",
       "      <td>6.242222</td>\n",
       "    </tr>\n",
       "    <tr>\n",
       "      <th>517</th>\n",
       "      <td>2016-12-31</td>\n",
       "      <td>16.273236</td>\n",
       "      <td>2.939614</td>\n",
       "      <td>9.008397</td>\n",
       "      <td>16.108062</td>\n",
       "      <td>16.440356</td>\n",
       "      <td>-10.237394</td>\n",
       "      <td>-10.237394</td>\n",
       "      <td>-10.237394</td>\n",
       "      <td>-0.022268</td>\n",
       "      <td>-0.022268</td>\n",
       "      <td>-0.022268</td>\n",
       "      <td>-10.215126</td>\n",
       "      <td>-10.215126</td>\n",
       "      <td>-10.215126</td>\n",
       "      <td>0.0</td>\n",
       "      <td>0.0</td>\n",
       "      <td>0.0</td>\n",
       "      <td>6.035842</td>\n",
       "    </tr>\n",
       "  </tbody>\n",
       "</table>\n",
       "<p>518 rows × 19 columns</p>\n",
       "</div>"
      ],
      "text/plain": [
       "            ds      trend  yhat_lower  yhat_upper  trend_lower  trend_upper  \\\n",
       "0   2015-08-02  16.561539   25.068807   31.261649    16.561539    16.561539   \n",
       "1   2015-08-03  16.560982   25.025727   31.196092    16.560982    16.560982   \n",
       "2   2015-08-04  16.560424   25.516128   31.365782    16.560424    16.560424   \n",
       "3   2015-08-05  16.559866   25.217421   31.453019    16.559866    16.559866   \n",
       "4   2015-08-06  16.559309   25.381427   31.602913    16.559309    16.559309   \n",
       "..         ...        ...         ...         ...          ...          ...   \n",
       "513 2016-12-27  16.275466    3.428876    9.667042    16.112087    16.442258   \n",
       "514 2016-12-28  16.274909    3.457245    9.583131    16.110947    16.442099   \n",
       "515 2016-12-29  16.274351    2.995537    9.459725    16.109967    16.441478   \n",
       "516 2016-12-30  16.273793    3.190398    9.398181    16.109015    16.440924   \n",
       "517 2016-12-31  16.273236    2.939614    9.008397    16.108062    16.440356   \n",
       "\n",
       "     additive_terms  additive_terms_lower  additive_terms_upper    weekly  \\\n",
       "0         11.497560             11.497560             11.497560 -0.108869   \n",
       "1         11.620111             11.620111             11.620111 -0.059070   \n",
       "2         11.800380             11.800380             11.800380  0.057071   \n",
       "3         11.826961             11.826961             11.826961  0.028758   \n",
       "4         11.862754             11.862754             11.862754  0.019394   \n",
       "..              ...                   ...                   ...       ...   \n",
       "513       -9.730293             -9.730293             -9.730293  0.057071   \n",
       "514       -9.873599             -9.873599             -9.873599  0.028758   \n",
       "515       -9.992802             -9.992802             -9.992802  0.019394   \n",
       "516      -10.031572            -10.031572            -10.031572  0.084984   \n",
       "517      -10.237394            -10.237394            -10.237394 -0.022268   \n",
       "\n",
       "     weekly_lower  weekly_upper     yearly  yearly_lower  yearly_upper  \\\n",
       "0       -0.108869     -0.108869  11.606428     11.606428     11.606428   \n",
       "1       -0.059070     -0.059070  11.679181     11.679181     11.679181   \n",
       "2        0.057071      0.057071  11.743308     11.743308     11.743308   \n",
       "3        0.028758      0.028758  11.798203     11.798203     11.798203   \n",
       "4        0.019394      0.019394  11.843360     11.843360     11.843360   \n",
       "..            ...           ...        ...           ...           ...   \n",
       "513      0.057071      0.057071  -9.787365     -9.787365     -9.787365   \n",
       "514      0.028758      0.028758  -9.902357     -9.902357     -9.902357   \n",
       "515      0.019394      0.019394 -10.012196    -10.012196    -10.012196   \n",
       "516      0.084984      0.084984 -10.116555    -10.116555    -10.116555   \n",
       "517     -0.022268     -0.022268 -10.215126    -10.215126    -10.215126   \n",
       "\n",
       "     multiplicative_terms  multiplicative_terms_lower  \\\n",
       "0                     0.0                         0.0   \n",
       "1                     0.0                         0.0   \n",
       "2                     0.0                         0.0   \n",
       "3                     0.0                         0.0   \n",
       "4                     0.0                         0.0   \n",
       "..                    ...                         ...   \n",
       "513                   0.0                         0.0   \n",
       "514                   0.0                         0.0   \n",
       "515                   0.0                         0.0   \n",
       "516                   0.0                         0.0   \n",
       "517                   0.0                         0.0   \n",
       "\n",
       "     multiplicative_terms_upper       yhat  \n",
       "0                           0.0  28.059099  \n",
       "1                           0.0  28.181093  \n",
       "2                           0.0  28.360803  \n",
       "3                           0.0  28.386827  \n",
       "4                           0.0  28.422063  \n",
       "..                          ...        ...  \n",
       "513                         0.0   6.545173  \n",
       "514                         0.0   6.401309  \n",
       "515                         0.0   6.281549  \n",
       "516                         0.0   6.242222  \n",
       "517                         0.0   6.035842  \n",
       "\n",
       "[518 rows x 19 columns]"
      ]
     },
     "execution_count": 21,
     "metadata": {},
     "output_type": "execute_result"
    }
   ],
   "source": [
    "forecast"
   ]
  },
  {
   "cell_type": "code",
   "execution_count": null,
   "metadata": {},
   "outputs": [],
   "source": []
  },
  {
   "cell_type": "code",
   "execution_count": 24,
   "metadata": {
    "scrolled": false
   },
   "outputs": [
    {
     "data": {
      "image/png": "[encoded data removed]",
      "text/plain": [
       "<Figure size 720x432 with 1 Axes>"
      ]
     },
     "metadata": {
      "image/png": {
       "height": 423,
       "width": 712
      }
     },
     "output_type": "display_data"
    }
   ],
   "source": [
    "model.plot(forecast)\n",
    "from datetime import datetime\n",
    "plt.xlim([datetime(2014, 1, 1), datetime(2015, 12, 1)])\n",
    "plt.show()"
   ]
  },
  {
   "cell_type": "code",
   "execution_count": 25,
   "metadata": {},
   "outputs": [
    {
     "data": {
      "text/plain": [
       "(518,)"
      ]
     },
     "execution_count": 25,
     "metadata": {},
     "output_type": "execute_result"
    }
   ],
   "source": [
    "y_pred = forecast['yhat'].values\n",
    "y_pred.shape"
   ]
  },
  {
   "cell_type": "code",
   "execution_count": 26,
   "metadata": {},
   "outputs": [
    {
     "data": {
      "text/plain": [
       "(518,)"
      ]
     },
     "execution_count": 26,
     "metadata": {},
     "output_type": "execute_result"
    }
   ],
   "source": [
    "y_test = test.y.values\n",
    "y_test.shape"
   ]
  },
  {
   "cell_type": "code",
   "execution_count": 27,
   "metadata": {},
   "outputs": [
    {
     "data": {
      "text/plain": [
       "0.8877830476016834"
      ]
     },
     "execution_count": 27,
     "metadata": {},
     "output_type": "execute_result"
    }
   ],
   "source": [
    "r2_score(y_test, y_pred)"
   ]
  },
  {
   "cell_type": "markdown",
   "metadata": {},
   "source": [
    "# 라이브러리"
   ]
  },
  {
   "cell_type": "code",
   "execution_count": null,
   "metadata": {},
   "outputs": [],
   "source": [
    "cut = np.int((len(ys)*0.7))\n",
    "train = ys[:cut]\n",
    "test = ys[cut:]\n",
    "ys.shape, train.shape, test.shape, cut"
   ]
  },
  {
   "cell_type": "code",
   "execution_count": null,
   "metadata": {},
   "outputs": [],
   "source": [
    "def split_seq_2(sequence, n_steps_in, n_steps_out=1):\n",
    "  x, y = [],[]\n",
    "  for i in range(len(sequence)):\n",
    "    end_ix = i + n_steps_in\n",
    "    out_end_ix = end_ix + n_steps_out\n",
    "    if out_end_ix > len(sequence):\n",
    "        break\n",
    "    seq_x, seq_y = sequence[i:end_ix], sequence[out_end_ix-1]\n",
    "    x.append(seq_x)\n",
    "    y.append(seq_y)\n",
    "  return np.array(x), np.array(y)"
   ]
  },
  {
   "cell_type": "code",
   "execution_count": null,
   "metadata": {},
   "outputs": [],
   "source": [
    "# 실제값과 예측치 비교\n",
    "def plot_y_pred(y_test, y_pred):\n",
    "    plt.figure(figsize=(8, 5))\n",
    "    plt.plot(y_test, c='r')\n",
    "    plt.plot(y_pred, c='b')\n",
    "    plt.show()\n",
    "    print(\"R2=\", r2_score(y_test, y_pred).round(3))\n",
    "    error = abs(y_test - y_pred)\n",
    "    print(\"MAE=\", error.mean().round(3))\n",
    "    print(\"rmse=\", np.sqrt((error**2).mean()).round(3))\n",
    "    print(\"max=\", max(error).round(3))"
   ]
  },
  {
   "cell_type": "code",
   "execution_count": null,
   "metadata": {},
   "outputs": [],
   "source": [
    "def scatter_errors(y_test, y_pred):\n",
    "    error = abs(y_test - y_pred)\n",
    "    plt.scatter(y_test, error, s=2)"
   ]
  },
  {
   "cell_type": "code",
   "execution_count": null,
   "metadata": {},
   "outputs": [],
   "source": [
    "lr = LinearRegression()\n",
    "n_steps_in = 3\n",
    "n_futures = range(10)\n",
    "for n_steps_out in n_futures:\n",
    "  x_train, y_train = split_seq_2(train, n_steps_in, n_steps_out)\n",
    "  x_test, y_test = split_seq_2(test, n_steps_in, n_steps_out)\n",
    "  lr.fit(x_train, y_train) \n",
    "  print(n_steps_out, ',', lr.score(x_test, y_test).round(3))"
   ]
  }
 ],
 "metadata": {
  "colab": {
   "collapsed_sections": [],
   "name": "g_30_날씨예측.ipynb",
   "provenance": []
  },
  "kernelspec": {
   "display_name": "Python 3",
   "language": "python",
   "name": "python3"
  },
  "language_info": {
   "codemirror_mode": {
    "name": "ipython",
    "version": 3
   },
   "file_extension": ".py",
   "mimetype": "text/x-python",
   "name": "python",
   "nbconvert_exporter": "python",
   "pygments_lexer": "ipython3",
   "version": "3.7.6"
  },
  "toc": {
   "base_numbering": 1,
   "nav_menu": {},
   "number_sections": true,
   "sideBar": true,
   "skip_h1_title": false,
   "title_cell": "Table of Contents",
   "title_sidebar": "Contents",
   "toc_cell": false,
   "toc_position": {},
   "toc_section_display": true,
   "toc_window_display": false
  }
 },
 "nbformat": 4,
 "nbformat_minor": 1
}
